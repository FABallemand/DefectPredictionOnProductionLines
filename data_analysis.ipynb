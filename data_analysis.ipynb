{
 "cells": [
  {
   "attachments": {},
   "cell_type": "markdown",
   "metadata": {},
   "source": [
    "# Data Analysis"
   ]
  },
  {
   "cell_type": "code",
   "execution_count": 1,
   "metadata": {},
   "outputs": [],
   "source": [
    "import numpy as np\n",
    "import pandas as pd\n",
    "import matplotlib.pyplot as plt\n",
    "import seaborn as sns\n",
    "\n",
    "from sklearn.preprocessing import StandardScaler\n",
    "from sklearn.model_selection import train_test_split\n",
    "from sklearn.decomposition import PCA\n",
    "\n",
    "from scipy import stats\n",
    "\n",
    "import utils"
   ]
  },
  {
   "attachments": {},
   "cell_type": "markdown",
   "metadata": {},
   "source": [
    "## Training Input Dataset\n",
    "\n",
    "### Loading Dataset"
   ]
  },
  {
   "cell_type": "code",
   "execution_count": 2,
   "metadata": {},
   "outputs": [],
   "source": [
    "train_input, train_output = utils.loadTrainingData()"
   ]
  },
  {
   "attachments": {},
   "cell_type": "markdown",
   "metadata": {},
   "source": [
    "### Dataset Description"
   ]
  },
  {
   "cell_type": "code",
   "execution_count": 3,
   "metadata": {},
   "outputs": [
    {
     "data": {
      "text/html": [
       "<div>\n",
       "<style scoped>\n",
       "    .dataframe tbody tr th:only-of-type {\n",
       "        vertical-align: middle;\n",
       "    }\n",
       "\n",
       "    .dataframe tbody tr th {\n",
       "        vertical-align: top;\n",
       "    }\n",
       "\n",
       "    .dataframe thead th {\n",
       "        text-align: right;\n",
       "    }\n",
       "</style>\n",
       "<table border=\"1\" class=\"dataframe\">\n",
       "  <thead>\n",
       "    <tr style=\"text-align: right;\">\n",
       "      <th></th>\n",
       "      <th>id</th>\n",
       "      <th>angle_1</th>\n",
       "      <th>snap_ring_peak_force</th>\n",
       "      <th>angle_2</th>\n",
       "      <th>rodage_i</th>\n",
       "      <th>snap_ring_final_stroke</th>\n",
       "      <th>vissage_m8_torque</th>\n",
       "      <th>capuchon_insertion</th>\n",
       "      <th>rodage_u</th>\n",
       "      <th>torque_1</th>\n",
       "      <th>start_line_peak_force</th>\n",
       "      <th>vissage_m8_angle</th>\n",
       "      <th>snap_ring_midpoint_force</th>\n",
       "      <th>torque_2</th>\n",
       "    </tr>\n",
       "  </thead>\n",
       "  <tbody>\n",
       "    <tr>\n",
       "      <th>0</th>\n",
       "      <td>I-B-XA1207672-190429-00688</td>\n",
       "      <td>180.4</td>\n",
       "      <td>190.51</td>\n",
       "      <td>173.1</td>\n",
       "      <td>113.64</td>\n",
       "      <td>12.04</td>\n",
       "      <td>12.16</td>\n",
       "      <td>NaN</td>\n",
       "      <td>11.97</td>\n",
       "      <td>6.62</td>\n",
       "      <td>26.37</td>\n",
       "      <td>18.8</td>\n",
       "      <td>109.62</td>\n",
       "      <td>6.60</td>\n",
       "    </tr>\n",
       "    <tr>\n",
       "      <th>1</th>\n",
       "      <td>I-B-XA1207672-190828-00973</td>\n",
       "      <td>138.7</td>\n",
       "      <td>147.70</td>\n",
       "      <td>163.5</td>\n",
       "      <td>109.77</td>\n",
       "      <td>12.12</td>\n",
       "      <td>12.19</td>\n",
       "      <td>0.39</td>\n",
       "      <td>11.97</td>\n",
       "      <td>6.41</td>\n",
       "      <td>21.03</td>\n",
       "      <td>18.5</td>\n",
       "      <td>105.48</td>\n",
       "      <td>6.40</td>\n",
       "    </tr>\n",
       "    <tr>\n",
       "      <th>2</th>\n",
       "      <td>I-B-XA1207672-190712-03462</td>\n",
       "      <td>180.9</td>\n",
       "      <td>150.87</td>\n",
       "      <td>181.2</td>\n",
       "      <td>109.79</td>\n",
       "      <td>11.86</td>\n",
       "      <td>12.24</td>\n",
       "      <td>NaN</td>\n",
       "      <td>11.97</td>\n",
       "      <td>6.62</td>\n",
       "      <td>25.81</td>\n",
       "      <td>17.5</td>\n",
       "      <td>100.03</td>\n",
       "      <td>6.61</td>\n",
       "    </tr>\n",
       "    <tr>\n",
       "      <th>3</th>\n",
       "      <td>I-B-XA1207672-190803-00051</td>\n",
       "      <td>173.5</td>\n",
       "      <td>159.56</td>\n",
       "      <td>151.8</td>\n",
       "      <td>113.25</td>\n",
       "      <td>11.82</td>\n",
       "      <td>12.35</td>\n",
       "      <td>0.39</td>\n",
       "      <td>11.97</td>\n",
       "      <td>6.62</td>\n",
       "      <td>24.62</td>\n",
       "      <td>15.6</td>\n",
       "      <td>104.94</td>\n",
       "      <td>6.61</td>\n",
       "    </tr>\n",
       "    <tr>\n",
       "      <th>4</th>\n",
       "      <td>I-B-XA1207672-190508-03248</td>\n",
       "      <td>174.5</td>\n",
       "      <td>172.29</td>\n",
       "      <td>177.5</td>\n",
       "      <td>112.88</td>\n",
       "      <td>12.07</td>\n",
       "      <td>12.19</td>\n",
       "      <td>NaN</td>\n",
       "      <td>11.97</td>\n",
       "      <td>6.62</td>\n",
       "      <td>29.22</td>\n",
       "      <td>33.6</td>\n",
       "      <td>99.19</td>\n",
       "      <td>6.61</td>\n",
       "    </tr>\n",
       "    <tr>\n",
       "      <th>...</th>\n",
       "      <td>...</td>\n",
       "      <td>...</td>\n",
       "      <td>...</td>\n",
       "      <td>...</td>\n",
       "      <td>...</td>\n",
       "      <td>...</td>\n",
       "      <td>...</td>\n",
       "      <td>...</td>\n",
       "      <td>...</td>\n",
       "      <td>...</td>\n",
       "      <td>...</td>\n",
       "      <td>...</td>\n",
       "      <td>...</td>\n",
       "      <td>...</td>\n",
       "    </tr>\n",
       "    <tr>\n",
       "      <th>34510</th>\n",
       "      <td>I-B-XA1207672-190520-00031</td>\n",
       "      <td>158.2</td>\n",
       "      <td>168.40</td>\n",
       "      <td>180.6</td>\n",
       "      <td>110.65</td>\n",
       "      <td>11.88</td>\n",
       "      <td>12.23</td>\n",
       "      <td>NaN</td>\n",
       "      <td>11.98</td>\n",
       "      <td>6.61</td>\n",
       "      <td>24.03</td>\n",
       "      <td>14.8</td>\n",
       "      <td>98.76</td>\n",
       "      <td>6.61</td>\n",
       "    </tr>\n",
       "    <tr>\n",
       "      <th>34511</th>\n",
       "      <td>I-B-XA1207672-190906-00270</td>\n",
       "      <td>139.4</td>\n",
       "      <td>146.24</td>\n",
       "      <td>154.5</td>\n",
       "      <td>108.14</td>\n",
       "      <td>12.04</td>\n",
       "      <td>12.27</td>\n",
       "      <td>0.41</td>\n",
       "      <td>11.97</td>\n",
       "      <td>6.41</td>\n",
       "      <td>21.52</td>\n",
       "      <td>15.5</td>\n",
       "      <td>98.37</td>\n",
       "      <td>6.40</td>\n",
       "    </tr>\n",
       "    <tr>\n",
       "      <th>34512</th>\n",
       "      <td>I-B-XA1207672-190429-00930</td>\n",
       "      <td>165.5</td>\n",
       "      <td>157.34</td>\n",
       "      <td>149.8</td>\n",
       "      <td>112.77</td>\n",
       "      <td>12.09</td>\n",
       "      <td>12.17</td>\n",
       "      <td>NaN</td>\n",
       "      <td>11.97</td>\n",
       "      <td>6.62</td>\n",
       "      <td>22.65</td>\n",
       "      <td>24.4</td>\n",
       "      <td>92.92</td>\n",
       "      <td>6.62</td>\n",
       "    </tr>\n",
       "    <tr>\n",
       "      <th>34513</th>\n",
       "      <td>I-B-XA1207672-190424-02120</td>\n",
       "      <td>152.4</td>\n",
       "      <td>165.07</td>\n",
       "      <td>140.0</td>\n",
       "      <td>111.19</td>\n",
       "      <td>12.06</td>\n",
       "      <td>12.34</td>\n",
       "      <td>NaN</td>\n",
       "      <td>11.97</td>\n",
       "      <td>6.60</td>\n",
       "      <td>20.77</td>\n",
       "      <td>13.6</td>\n",
       "      <td>101.21</td>\n",
       "      <td>6.60</td>\n",
       "    </tr>\n",
       "    <tr>\n",
       "      <th>34514</th>\n",
       "      <td>I-B-XA1207672-190712-03433</td>\n",
       "      <td>197.8</td>\n",
       "      <td>150.37</td>\n",
       "      <td>190.3</td>\n",
       "      <td>113.81</td>\n",
       "      <td>11.84</td>\n",
       "      <td>12.23</td>\n",
       "      <td>NaN</td>\n",
       "      <td>11.97</td>\n",
       "      <td>6.47</td>\n",
       "      <td>26.43</td>\n",
       "      <td>21.5</td>\n",
       "      <td>102.72</td>\n",
       "      <td>6.62</td>\n",
       "    </tr>\n",
       "  </tbody>\n",
       "</table>\n",
       "<p>34515 rows × 14 columns</p>\n",
       "</div>"
      ],
      "text/plain": [
       "                               id  angle_1  snap_ring_peak_force  angle_2  \\\n",
       "0      I-B-XA1207672-190429-00688    180.4                190.51    173.1   \n",
       "1      I-B-XA1207672-190828-00973    138.7                147.70    163.5   \n",
       "2      I-B-XA1207672-190712-03462    180.9                150.87    181.2   \n",
       "3      I-B-XA1207672-190803-00051    173.5                159.56    151.8   \n",
       "4      I-B-XA1207672-190508-03248    174.5                172.29    177.5   \n",
       "...                           ...      ...                   ...      ...   \n",
       "34510  I-B-XA1207672-190520-00031    158.2                168.40    180.6   \n",
       "34511  I-B-XA1207672-190906-00270    139.4                146.24    154.5   \n",
       "34512  I-B-XA1207672-190429-00930    165.5                157.34    149.8   \n",
       "34513  I-B-XA1207672-190424-02120    152.4                165.07    140.0   \n",
       "34514  I-B-XA1207672-190712-03433    197.8                150.37    190.3   \n",
       "\n",
       "       rodage_i  snap_ring_final_stroke  vissage_m8_torque  \\\n",
       "0        113.64                   12.04              12.16   \n",
       "1        109.77                   12.12              12.19   \n",
       "2        109.79                   11.86              12.24   \n",
       "3        113.25                   11.82              12.35   \n",
       "4        112.88                   12.07              12.19   \n",
       "...         ...                     ...                ...   \n",
       "34510    110.65                   11.88              12.23   \n",
       "34511    108.14                   12.04              12.27   \n",
       "34512    112.77                   12.09              12.17   \n",
       "34513    111.19                   12.06              12.34   \n",
       "34514    113.81                   11.84              12.23   \n",
       "\n",
       "       capuchon_insertion  rodage_u  torque_1  start_line_peak_force  \\\n",
       "0                     NaN     11.97      6.62                  26.37   \n",
       "1                    0.39     11.97      6.41                  21.03   \n",
       "2                     NaN     11.97      6.62                  25.81   \n",
       "3                    0.39     11.97      6.62                  24.62   \n",
       "4                     NaN     11.97      6.62                  29.22   \n",
       "...                   ...       ...       ...                    ...   \n",
       "34510                 NaN     11.98      6.61                  24.03   \n",
       "34511                0.41     11.97      6.41                  21.52   \n",
       "34512                 NaN     11.97      6.62                  22.65   \n",
       "34513                 NaN     11.97      6.60                  20.77   \n",
       "34514                 NaN     11.97      6.47                  26.43   \n",
       "\n",
       "       vissage_m8_angle  snap_ring_midpoint_force  torque_2  \n",
       "0                  18.8                    109.62      6.60  \n",
       "1                  18.5                    105.48      6.40  \n",
       "2                  17.5                    100.03      6.61  \n",
       "3                  15.6                    104.94      6.61  \n",
       "4                  33.6                     99.19      6.61  \n",
       "...                 ...                       ...       ...  \n",
       "34510              14.8                     98.76      6.61  \n",
       "34511              15.5                     98.37      6.40  \n",
       "34512              24.4                     92.92      6.62  \n",
       "34513              13.6                    101.21      6.60  \n",
       "34514              21.5                    102.72      6.62  \n",
       "\n",
       "[34515 rows x 14 columns]"
      ]
     },
     "execution_count": 3,
     "metadata": {},
     "output_type": "execute_result"
    }
   ],
   "source": [
    "train_input\n",
    "# train_input.shape"
   ]
  },
  {
   "cell_type": "code",
   "execution_count": 4,
   "metadata": {},
   "outputs": [
    {
     "data": {
      "text/html": [
       "<div>\n",
       "<style scoped>\n",
       "    .dataframe tbody tr th:only-of-type {\n",
       "        vertical-align: middle;\n",
       "    }\n",
       "\n",
       "    .dataframe tbody tr th {\n",
       "        vertical-align: top;\n",
       "    }\n",
       "\n",
       "    .dataframe thead th {\n",
       "        text-align: right;\n",
       "    }\n",
       "</style>\n",
       "<table border=\"1\" class=\"dataframe\">\n",
       "  <thead>\n",
       "    <tr style=\"text-align: right;\">\n",
       "      <th></th>\n",
       "      <th>angle_1</th>\n",
       "      <th>snap_ring_peak_force</th>\n",
       "      <th>angle_2</th>\n",
       "      <th>rodage_i</th>\n",
       "      <th>snap_ring_final_stroke</th>\n",
       "      <th>vissage_m8_torque</th>\n",
       "      <th>capuchon_insertion</th>\n",
       "      <th>rodage_u</th>\n",
       "      <th>torque_1</th>\n",
       "      <th>start_line_peak_force</th>\n",
       "      <th>vissage_m8_angle</th>\n",
       "      <th>snap_ring_midpoint_force</th>\n",
       "      <th>torque_2</th>\n",
       "    </tr>\n",
       "  </thead>\n",
       "  <tbody>\n",
       "    <tr>\n",
       "      <th>count</th>\n",
       "      <td>34515.000000</td>\n",
       "      <td>34515.000000</td>\n",
       "      <td>34515.000000</td>\n",
       "      <td>34515.000000</td>\n",
       "      <td>34515.000000</td>\n",
       "      <td>34515.000000</td>\n",
       "      <td>15888.000000</td>\n",
       "      <td>34515.000000</td>\n",
       "      <td>34515.000000</td>\n",
       "      <td>34515.000000</td>\n",
       "      <td>34515.000000</td>\n",
       "      <td>34515.000000</td>\n",
       "      <td>34515.000000</td>\n",
       "    </tr>\n",
       "    <tr>\n",
       "      <th>mean</th>\n",
       "      <td>159.906922</td>\n",
       "      <td>156.915055</td>\n",
       "      <td>159.618236</td>\n",
       "      <td>113.350222</td>\n",
       "      <td>11.970190</td>\n",
       "      <td>12.256785</td>\n",
       "      <td>0.388173</td>\n",
       "      <td>11.971027</td>\n",
       "      <td>6.548403</td>\n",
       "      <td>23.630152</td>\n",
       "      <td>17.878398</td>\n",
       "      <td>97.700978</td>\n",
       "      <td>6.550867</td>\n",
       "    </tr>\n",
       "    <tr>\n",
       "      <th>std</th>\n",
       "      <td>15.662650</td>\n",
       "      <td>11.271492</td>\n",
       "      <td>15.091490</td>\n",
       "      <td>3.528522</td>\n",
       "      <td>0.169873</td>\n",
       "      <td>0.065319</td>\n",
       "      <td>0.024425</td>\n",
       "      <td>0.003050</td>\n",
       "      <td>0.097602</td>\n",
       "      <td>2.546341</td>\n",
       "      <td>6.785079</td>\n",
       "      <td>6.837714</td>\n",
       "      <td>0.094814</td>\n",
       "    </tr>\n",
       "    <tr>\n",
       "      <th>min</th>\n",
       "      <td>101.800000</td>\n",
       "      <td>0.000000</td>\n",
       "      <td>82.000000</td>\n",
       "      <td>99.990000</td>\n",
       "      <td>0.000000</td>\n",
       "      <td>12.030000</td>\n",
       "      <td>0.240000</td>\n",
       "      <td>11.970000</td>\n",
       "      <td>5.670000</td>\n",
       "      <td>0.000000</td>\n",
       "      <td>6.300000</td>\n",
       "      <td>0.000000</td>\n",
       "      <td>5.740000</td>\n",
       "    </tr>\n",
       "    <tr>\n",
       "      <th>25%</th>\n",
       "      <td>148.700000</td>\n",
       "      <td>149.210000</td>\n",
       "      <td>149.400000</td>\n",
       "      <td>111.040000</td>\n",
       "      <td>11.850000</td>\n",
       "      <td>12.210000</td>\n",
       "      <td>0.380000</td>\n",
       "      <td>11.970000</td>\n",
       "      <td>6.410000</td>\n",
       "      <td>22.280000</td>\n",
       "      <td>13.500000</td>\n",
       "      <td>94.310000</td>\n",
       "      <td>6.420000</td>\n",
       "    </tr>\n",
       "    <tr>\n",
       "      <th>50%</th>\n",
       "      <td>158.000000</td>\n",
       "      <td>156.180000</td>\n",
       "      <td>158.700000</td>\n",
       "      <td>113.160000</td>\n",
       "      <td>12.040000</td>\n",
       "      <td>12.260000</td>\n",
       "      <td>0.390000</td>\n",
       "      <td>11.970000</td>\n",
       "      <td>6.610000</td>\n",
       "      <td>23.880000</td>\n",
       "      <td>16.400000</td>\n",
       "      <td>98.500000</td>\n",
       "      <td>6.610000</td>\n",
       "    </tr>\n",
       "    <tr>\n",
       "      <th>75%</th>\n",
       "      <td>169.300000</td>\n",
       "      <td>164.380000</td>\n",
       "      <td>168.900000</td>\n",
       "      <td>115.380000</td>\n",
       "      <td>12.080000</td>\n",
       "      <td>12.300000</td>\n",
       "      <td>0.410000</td>\n",
       "      <td>11.970000</td>\n",
       "      <td>6.620000</td>\n",
       "      <td>25.290000</td>\n",
       "      <td>20.200000</td>\n",
       "      <td>102.230000</td>\n",
       "      <td>6.610000</td>\n",
       "    </tr>\n",
       "    <tr>\n",
       "      <th>max</th>\n",
       "      <td>198.300000</td>\n",
       "      <td>196.920000</td>\n",
       "      <td>198.100000</td>\n",
       "      <td>177.950000</td>\n",
       "      <td>12.190000</td>\n",
       "      <td>12.500000</td>\n",
       "      <td>0.420000</td>\n",
       "      <td>11.990000</td>\n",
       "      <td>6.670000</td>\n",
       "      <td>43.410000</td>\n",
       "      <td>84.600000</td>\n",
       "      <td>127.300000</td>\n",
       "      <td>6.670000</td>\n",
       "    </tr>\n",
       "  </tbody>\n",
       "</table>\n",
       "</div>"
      ],
      "text/plain": [
       "            angle_1  snap_ring_peak_force       angle_2      rodage_i  \\\n",
       "count  34515.000000          34515.000000  34515.000000  34515.000000   \n",
       "mean     159.906922            156.915055    159.618236    113.350222   \n",
       "std       15.662650             11.271492     15.091490      3.528522   \n",
       "min      101.800000              0.000000     82.000000     99.990000   \n",
       "25%      148.700000            149.210000    149.400000    111.040000   \n",
       "50%      158.000000            156.180000    158.700000    113.160000   \n",
       "75%      169.300000            164.380000    168.900000    115.380000   \n",
       "max      198.300000            196.920000    198.100000    177.950000   \n",
       "\n",
       "       snap_ring_final_stroke  vissage_m8_torque  capuchon_insertion  \\\n",
       "count            34515.000000       34515.000000        15888.000000   \n",
       "mean                11.970190          12.256785            0.388173   \n",
       "std                  0.169873           0.065319            0.024425   \n",
       "min                  0.000000          12.030000            0.240000   \n",
       "25%                 11.850000          12.210000            0.380000   \n",
       "50%                 12.040000          12.260000            0.390000   \n",
       "75%                 12.080000          12.300000            0.410000   \n",
       "max                 12.190000          12.500000            0.420000   \n",
       "\n",
       "           rodage_u      torque_1  start_line_peak_force  vissage_m8_angle  \\\n",
       "count  34515.000000  34515.000000           34515.000000      34515.000000   \n",
       "mean      11.971027      6.548403              23.630152         17.878398   \n",
       "std        0.003050      0.097602               2.546341          6.785079   \n",
       "min       11.970000      5.670000               0.000000          6.300000   \n",
       "25%       11.970000      6.410000              22.280000         13.500000   \n",
       "50%       11.970000      6.610000              23.880000         16.400000   \n",
       "75%       11.970000      6.620000              25.290000         20.200000   \n",
       "max       11.990000      6.670000              43.410000         84.600000   \n",
       "\n",
       "       snap_ring_midpoint_force      torque_2  \n",
       "count              34515.000000  34515.000000  \n",
       "mean                  97.700978      6.550867  \n",
       "std                    6.837714      0.094814  \n",
       "min                    0.000000      5.740000  \n",
       "25%                   94.310000      6.420000  \n",
       "50%                   98.500000      6.610000  \n",
       "75%                  102.230000      6.610000  \n",
       "max                  127.300000      6.670000  "
      ]
     },
     "execution_count": 4,
     "metadata": {},
     "output_type": "execute_result"
    }
   ],
   "source": [
    "train_input.describe()"
   ]
  },
  {
   "attachments": {},
   "cell_type": "markdown",
   "metadata": {},
   "source": [
    "**capuchon_insertion**'s standard deviation is quite low ($0.024425$)."
   ]
  },
  {
   "cell_type": "code",
   "execution_count": 5,
   "metadata": {
    "tags": []
   },
   "outputs": [
    {
     "data": {
      "text/plain": [
       "array([[<AxesSubplot:title={'center':'angle_1'}>,\n",
       "        <AxesSubplot:title={'center':'snap_ring_peak_force'}>,\n",
       "        <AxesSubplot:title={'center':'angle_2'}>,\n",
       "        <AxesSubplot:title={'center':'rodage_i'}>],\n",
       "       [<AxesSubplot:title={'center':'snap_ring_final_stroke'}>,\n",
       "        <AxesSubplot:title={'center':'vissage_m8_torque'}>,\n",
       "        <AxesSubplot:title={'center':'capuchon_insertion'}>,\n",
       "        <AxesSubplot:title={'center':'rodage_u'}>],\n",
       "       [<AxesSubplot:title={'center':'torque_1'}>,\n",
       "        <AxesSubplot:title={'center':'start_line_peak_force'}>,\n",
       "        <AxesSubplot:title={'center':'vissage_m8_angle'}>,\n",
       "        <AxesSubplot:title={'center':'snap_ring_midpoint_force'}>],\n",
       "       [<AxesSubplot:title={'center':'torque_2'}>, <AxesSubplot:>,\n",
       "        <AxesSubplot:>, <AxesSubplot:>]], dtype=object)"
      ]
     },
     "execution_count": 5,
     "metadata": {},
     "output_type": "execute_result"
    },
    {
     "data": {
      "image/png": "[encoded data removed]",
      "text/plain": [
       "<Figure size 1440x720 with 16 Axes>"
      ]
     },
     "metadata": {
      "needs_background": "light"
     },
     "output_type": "display_data"
    }
   ],
   "source": [
    "train_input.hist(figsize=(20,10))"
   ]
  },
  {
   "cell_type": "code",
   "execution_count": 6,
   "metadata": {},
   "outputs": [
    {
     "data": {
      "image/png": "[encoded data removed]",
      "text/plain": [
       "<Figure size 432x288 with 1 Axes>"
      ]
     },
     "metadata": {
      "needs_background": "light"
     },
     "output_type": "display_data"
    },
    {
     "data": {
      "image/png": "[encoded data removed]",
      "text/plain": [
       "<Figure size 432x288 with 1 Axes>"
      ]
     },
     "metadata": {
      "needs_background": "light"
     },
     "output_type": "display_data"
    },
    {
     "data": {
      "image/png": "[encoded data removed]",
      "text/plain": [
       "<Figure size 432x288 with 1 Axes>"
      ]
     },
     "metadata": {
      "needs_background": "light"
     },
     "output_type": "display_data"
    },
    {
     "data": {
      "image/png": "[encoded data removed]",
      "text/plain": [
       "<Figure size 432x288 with 1 Axes>"
      ]
     },
     "metadata": {
      "needs_background": "light"
     },
     "output_type": "display_data"
    },
    {
     "data": {
      "image/png": "[encoded data removed]",
      "text/plain": [
       "<Figure size 432x288 with 1 Axes>"
      ]
     },
     "metadata": {
      "needs_background": "light"
     },
     "output_type": "display_data"
    },
    {
     "data": {
      "image/png": "[encoded data removed]",
      "text/plain": [
       "<Figure size 432x288 with 1 Axes>"
      ]
     },
     "metadata": {
      "needs_background": "light"
     },
     "output_type": "display_data"
    },
    {
     "data": {
      "image/png": "[encoded data removed]",
      "text/plain": [
       "<Figure size 432x288 with 1 Axes>"
      ]
     },
     "metadata": {
      "needs_background": "light"
     },
     "output_type": "display_data"
    },
    {
     "data": {
      "image/png": "[encoded data removed]",
      "text/plain": [
       "<Figure size 432x288 with 1 Axes>"
      ]
     },
     "metadata": {
      "needs_background": "light"
     },
     "output_type": "display_data"
    },
    {
     "data": {
      "image/png": "[encoded data removed]",
      "text/plain": [
       "<Figure size 432x288 with 1 Axes>"
      ]
     },
     "metadata": {
      "needs_background": "light"
     },
     "output_type": "display_data"
    },
    {
     "data": {
      "image/png": "[encoded data removed]",
      "text/plain": [
       "<Figure size 432x288 with 1 Axes>"
      ]
     },
     "metadata": {
      "needs_background": "light"
     },
     "output_type": "display_data"
    },
    {
     "data": {
      "image/png": "[encoded data removed]",
      "text/plain": [
       "<Figure size 432x288 with 1 Axes>"
      ]
     },
     "metadata": {
      "needs_background": "light"
     },
     "output_type": "display_data"
    },
    {
     "data": {
      "image/png": "[encoded data removed]",
      "text/plain": [
       "<Figure size 432x288 with 1 Axes>"
      ]
     },
     "metadata": {
      "needs_background": "light"
     },
     "output_type": "display_data"
    },
    {
     "data": {
      "image/png": "[encoded data removed]",
      "text/plain": [
       "<Figure size 432x288 with 1 Axes>"
      ]
     },
     "metadata": {
      "needs_background": "light"
     },
     "output_type": "display_data"
    }
   ],
   "source": [
    "# train_input.boxplot(column=train_input.columns.tolist()[1:], figsize=(20,10))\n",
    "\n",
    "for column in train_input.columns.tolist()[1:]:\n",
    "    plt.figure()\n",
    "    train_input.boxplot([column])"
   ]
  },
  {
   "attachments": {},
   "cell_type": "markdown",
   "metadata": {},
   "source": [
    "### Features Correlation"
   ]
  },
  {
   "cell_type": "code",
   "execution_count": 7,
   "metadata": {},
   "outputs": [
    {
     "data": {
      "text/html": [
       "<div>\n",
       "<style scoped>\n",
       "    .dataframe tbody tr th:only-of-type {\n",
       "        vertical-align: middle;\n",
       "    }\n",
       "\n",
       "    .dataframe tbody tr th {\n",
       "        vertical-align: top;\n",
       "    }\n",
       "\n",
       "    .dataframe thead th {\n",
       "        text-align: right;\n",
       "    }\n",
       "</style>\n",
       "<table border=\"1\" class=\"dataframe\">\n",
       "  <thead>\n",
       "    <tr style=\"text-align: right;\">\n",
       "      <th></th>\n",
       "      <th>angle_1</th>\n",
       "      <th>snap_ring_peak_force</th>\n",
       "      <th>angle_2</th>\n",
       "      <th>rodage_i</th>\n",
       "      <th>snap_ring_final_stroke</th>\n",
       "      <th>vissage_m8_torque</th>\n",
       "      <th>capuchon_insertion</th>\n",
       "      <th>rodage_u</th>\n",
       "      <th>torque_1</th>\n",
       "      <th>start_line_peak_force</th>\n",
       "      <th>vissage_m8_angle</th>\n",
       "      <th>snap_ring_midpoint_force</th>\n",
       "      <th>torque_2</th>\n",
       "    </tr>\n",
       "  </thead>\n",
       "  <tbody>\n",
       "    <tr>\n",
       "      <th>angle_1</th>\n",
       "      <td>1.000000</td>\n",
       "      <td>0.008887</td>\n",
       "      <td>0.186781</td>\n",
       "      <td>0.035003</td>\n",
       "      <td>-0.087910</td>\n",
       "      <td>-0.017578</td>\n",
       "      <td>-0.024779</td>\n",
       "      <td>-0.007284</td>\n",
       "      <td>-0.012960</td>\n",
       "      <td>0.057592</td>\n",
       "      <td>0.014374</td>\n",
       "      <td>0.066924</td>\n",
       "      <td>0.073814</td>\n",
       "    </tr>\n",
       "    <tr>\n",
       "      <th>snap_ring_peak_force</th>\n",
       "      <td>0.008887</td>\n",
       "      <td>1.000000</td>\n",
       "      <td>0.038399</td>\n",
       "      <td>0.055235</td>\n",
       "      <td>0.076451</td>\n",
       "      <td>-0.134780</td>\n",
       "      <td>-0.193211</td>\n",
       "      <td>0.135288</td>\n",
       "      <td>0.489633</td>\n",
       "      <td>0.336620</td>\n",
       "      <td>0.106753</td>\n",
       "      <td>0.345139</td>\n",
       "      <td>0.481550</td>\n",
       "    </tr>\n",
       "    <tr>\n",
       "      <th>angle_2</th>\n",
       "      <td>0.186781</td>\n",
       "      <td>0.038399</td>\n",
       "      <td>1.000000</td>\n",
       "      <td>0.036301</td>\n",
       "      <td>-0.060931</td>\n",
       "      <td>-0.030284</td>\n",
       "      <td>0.005722</td>\n",
       "      <td>0.003245</td>\n",
       "      <td>0.059178</td>\n",
       "      <td>0.047190</td>\n",
       "      <td>0.017727</td>\n",
       "      <td>0.050193</td>\n",
       "      <td>0.017812</td>\n",
       "    </tr>\n",
       "    <tr>\n",
       "      <th>rodage_i</th>\n",
       "      <td>0.035003</td>\n",
       "      <td>0.055235</td>\n",
       "      <td>0.036301</td>\n",
       "      <td>1.000000</td>\n",
       "      <td>0.060014</td>\n",
       "      <td>-0.046313</td>\n",
       "      <td>0.053972</td>\n",
       "      <td>-0.118751</td>\n",
       "      <td>0.034240</td>\n",
       "      <td>0.002962</td>\n",
       "      <td>0.025043</td>\n",
       "      <td>0.046556</td>\n",
       "      <td>0.034342</td>\n",
       "    </tr>\n",
       "    <tr>\n",
       "      <th>snap_ring_final_stroke</th>\n",
       "      <td>-0.087910</td>\n",
       "      <td>0.076451</td>\n",
       "      <td>-0.060931</td>\n",
       "      <td>0.060014</td>\n",
       "      <td>1.000000</td>\n",
       "      <td>-0.095903</td>\n",
       "      <td>0.307973</td>\n",
       "      <td>-0.022536</td>\n",
       "      <td>-0.380948</td>\n",
       "      <td>-0.381450</td>\n",
       "      <td>0.022764</td>\n",
       "      <td>-0.081412</td>\n",
       "      <td>-0.407915</td>\n",
       "    </tr>\n",
       "    <tr>\n",
       "      <th>vissage_m8_torque</th>\n",
       "      <td>-0.017578</td>\n",
       "      <td>-0.134780</td>\n",
       "      <td>-0.030284</td>\n",
       "      <td>-0.046313</td>\n",
       "      <td>-0.095903</td>\n",
       "      <td>1.000000</td>\n",
       "      <td>-0.023820</td>\n",
       "      <td>-0.031115</td>\n",
       "      <td>-0.076357</td>\n",
       "      <td>0.009997</td>\n",
       "      <td>-0.445953</td>\n",
       "      <td>-0.057760</td>\n",
       "      <td>-0.073071</td>\n",
       "    </tr>\n",
       "    <tr>\n",
       "      <th>capuchon_insertion</th>\n",
       "      <td>-0.024779</td>\n",
       "      <td>-0.193211</td>\n",
       "      <td>0.005722</td>\n",
       "      <td>0.053972</td>\n",
       "      <td>0.307973</td>\n",
       "      <td>-0.023820</td>\n",
       "      <td>1.000000</td>\n",
       "      <td>-0.087928</td>\n",
       "      <td>-0.522733</td>\n",
       "      <td>-0.209883</td>\n",
       "      <td>-0.094913</td>\n",
       "      <td>0.016094</td>\n",
       "      <td>-0.532577</td>\n",
       "    </tr>\n",
       "    <tr>\n",
       "      <th>rodage_u</th>\n",
       "      <td>-0.007284</td>\n",
       "      <td>0.135288</td>\n",
       "      <td>0.003245</td>\n",
       "      <td>-0.118751</td>\n",
       "      <td>-0.022536</td>\n",
       "      <td>-0.031115</td>\n",
       "      <td>-0.087928</td>\n",
       "      <td>1.000000</td>\n",
       "      <td>0.169246</td>\n",
       "      <td>0.087487</td>\n",
       "      <td>0.013814</td>\n",
       "      <td>0.057027</td>\n",
       "      <td>0.172109</td>\n",
       "    </tr>\n",
       "    <tr>\n",
       "      <th>torque_1</th>\n",
       "      <td>-0.012960</td>\n",
       "      <td>0.489633</td>\n",
       "      <td>0.059178</td>\n",
       "      <td>0.034240</td>\n",
       "      <td>-0.380948</td>\n",
       "      <td>-0.076357</td>\n",
       "      <td>-0.522733</td>\n",
       "      <td>0.169246</td>\n",
       "      <td>1.000000</td>\n",
       "      <td>0.543089</td>\n",
       "      <td>0.112377</td>\n",
       "      <td>0.334814</td>\n",
       "      <td>0.896698</td>\n",
       "    </tr>\n",
       "    <tr>\n",
       "      <th>start_line_peak_force</th>\n",
       "      <td>0.057592</td>\n",
       "      <td>0.336620</td>\n",
       "      <td>0.047190</td>\n",
       "      <td>0.002962</td>\n",
       "      <td>-0.381450</td>\n",
       "      <td>0.009997</td>\n",
       "      <td>-0.209883</td>\n",
       "      <td>0.087487</td>\n",
       "      <td>0.543089</td>\n",
       "      <td>1.000000</td>\n",
       "      <td>0.043943</td>\n",
       "      <td>0.620728</td>\n",
       "      <td>0.562435</td>\n",
       "    </tr>\n",
       "    <tr>\n",
       "      <th>vissage_m8_angle</th>\n",
       "      <td>0.014374</td>\n",
       "      <td>0.106753</td>\n",
       "      <td>0.017727</td>\n",
       "      <td>0.025043</td>\n",
       "      <td>0.022764</td>\n",
       "      <td>-0.445953</td>\n",
       "      <td>-0.094913</td>\n",
       "      <td>0.013814</td>\n",
       "      <td>0.112377</td>\n",
       "      <td>0.043943</td>\n",
       "      <td>1.000000</td>\n",
       "      <td>0.073582</td>\n",
       "      <td>0.113109</td>\n",
       "    </tr>\n",
       "    <tr>\n",
       "      <th>snap_ring_midpoint_force</th>\n",
       "      <td>0.066924</td>\n",
       "      <td>0.345139</td>\n",
       "      <td>0.050193</td>\n",
       "      <td>0.046556</td>\n",
       "      <td>-0.081412</td>\n",
       "      <td>-0.057760</td>\n",
       "      <td>0.016094</td>\n",
       "      <td>0.057027</td>\n",
       "      <td>0.334814</td>\n",
       "      <td>0.620728</td>\n",
       "      <td>0.073582</td>\n",
       "      <td>1.000000</td>\n",
       "      <td>0.346948</td>\n",
       "    </tr>\n",
       "    <tr>\n",
       "      <th>torque_2</th>\n",
       "      <td>0.073814</td>\n",
       "      <td>0.481550</td>\n",
       "      <td>0.017812</td>\n",
       "      <td>0.034342</td>\n",
       "      <td>-0.407915</td>\n",
       "      <td>-0.073071</td>\n",
       "      <td>-0.532577</td>\n",
       "      <td>0.172109</td>\n",
       "      <td>0.896698</td>\n",
       "      <td>0.562435</td>\n",
       "      <td>0.113109</td>\n",
       "      <td>0.346948</td>\n",
       "      <td>1.000000</td>\n",
       "    </tr>\n",
       "  </tbody>\n",
       "</table>\n",
       "</div>"
      ],
      "text/plain": [
       "                           angle_1  snap_ring_peak_force   angle_2  rodage_i  \\\n",
       "angle_1                   1.000000              0.008887  0.186781  0.035003   \n",
       "snap_ring_peak_force      0.008887              1.000000  0.038399  0.055235   \n",
       "angle_2                   0.186781              0.038399  1.000000  0.036301   \n",
       "rodage_i                  0.035003              0.055235  0.036301  1.000000   \n",
       "snap_ring_final_stroke   -0.087910              0.076451 -0.060931  0.060014   \n",
       "vissage_m8_torque        -0.017578             -0.134780 -0.030284 -0.046313   \n",
       "capuchon_insertion       -0.024779             -0.193211  0.005722  0.053972   \n",
       "rodage_u                 -0.007284              0.135288  0.003245 -0.118751   \n",
       "torque_1                 -0.012960              0.489633  0.059178  0.034240   \n",
       "start_line_peak_force     0.057592              0.336620  0.047190  0.002962   \n",
       "vissage_m8_angle          0.014374              0.106753  0.017727  0.025043   \n",
       "snap_ring_midpoint_force  0.066924              0.345139  0.050193  0.046556   \n",
       "torque_2                  0.073814              0.481550  0.017812  0.034342   \n",
       "\n",
       "                          snap_ring_final_stroke  vissage_m8_torque  \\\n",
       "angle_1                                -0.087910          -0.017578   \n",
       "snap_ring_peak_force                    0.076451          -0.134780   \n",
       "angle_2                                -0.060931          -0.030284   \n",
       "rodage_i                                0.060014          -0.046313   \n",
       "snap_ring_final_stroke                  1.000000          -0.095903   \n",
       "vissage_m8_torque                      -0.095903           1.000000   \n",
       "capuchon_insertion                      0.307973          -0.023820   \n",
       "rodage_u                               -0.022536          -0.031115   \n",
       "torque_1                               -0.380948          -0.076357   \n",
       "start_line_peak_force                  -0.381450           0.009997   \n",
       "vissage_m8_angle                        0.022764          -0.445953   \n",
       "snap_ring_midpoint_force               -0.081412          -0.057760   \n",
       "torque_2                               -0.407915          -0.073071   \n",
       "\n",
       "                          capuchon_insertion  rodage_u  torque_1  \\\n",
       "angle_1                            -0.024779 -0.007284 -0.012960   \n",
       "snap_ring_peak_force               -0.193211  0.135288  0.489633   \n",
       "angle_2                             0.005722  0.003245  0.059178   \n",
       "rodage_i                            0.053972 -0.118751  0.034240   \n",
       "snap_ring_final_stroke              0.307973 -0.022536 -0.380948   \n",
       "vissage_m8_torque                  -0.023820 -0.031115 -0.076357   \n",
       "capuchon_insertion                  1.000000 -0.087928 -0.522733   \n",
       "rodage_u                           -0.087928  1.000000  0.169246   \n",
       "torque_1                           -0.522733  0.169246  1.000000   \n",
       "start_line_peak_force              -0.209883  0.087487  0.543089   \n",
       "vissage_m8_angle                   -0.094913  0.013814  0.112377   \n",
       "snap_ring_midpoint_force            0.016094  0.057027  0.334814   \n",
       "torque_2                           -0.532577  0.172109  0.896698   \n",
       "\n",
       "                          start_line_peak_force  vissage_m8_angle  \\\n",
       "angle_1                                0.057592          0.014374   \n",
       "snap_ring_peak_force                   0.336620          0.106753   \n",
       "angle_2                                0.047190          0.017727   \n",
       "rodage_i                               0.002962          0.025043   \n",
       "snap_ring_final_stroke                -0.381450          0.022764   \n",
       "vissage_m8_torque                      0.009997         -0.445953   \n",
       "capuchon_insertion                    -0.209883         -0.094913   \n",
       "rodage_u                               0.087487          0.013814   \n",
       "torque_1                               0.543089          0.112377   \n",
       "start_line_peak_force                  1.000000          0.043943   \n",
       "vissage_m8_angle                       0.043943          1.000000   \n",
       "snap_ring_midpoint_force               0.620728          0.073582   \n",
       "torque_2                               0.562435          0.113109   \n",
       "\n",
       "                          snap_ring_midpoint_force  torque_2  \n",
       "angle_1                                   0.066924  0.073814  \n",
       "snap_ring_peak_force                      0.345139  0.481550  \n",
       "angle_2                                   0.050193  0.017812  \n",
       "rodage_i                                  0.046556  0.034342  \n",
       "snap_ring_final_stroke                   -0.081412 -0.407915  \n",
       "vissage_m8_torque                        -0.057760 -0.073071  \n",
       "capuchon_insertion                        0.016094 -0.532577  \n",
       "rodage_u                                  0.057027  0.172109  \n",
       "torque_1                                  0.334814  0.896698  \n",
       "start_line_peak_force                     0.620728  0.562435  \n",
       "vissage_m8_angle                          0.073582  0.113109  \n",
       "snap_ring_midpoint_force                  1.000000  0.346948  \n",
       "torque_2                                  0.346948  1.000000  "
      ]
     },
     "execution_count": 7,
     "metadata": {},
     "output_type": "execute_result"
    }
   ],
   "source": [
    "train_input.corr()"
   ]
  },
  {
   "cell_type": "code",
   "execution_count": 8,
   "metadata": {},
   "outputs": [],
   "source": [
    "# plt.matshow(train_input.corr())\n",
    "# plt.show()"
   ]
  },
  {
   "cell_type": "code",
   "execution_count": 9,
   "metadata": {},
   "outputs": [],
   "source": [
    "sns.pairplot(train_input)\n",
    "plt.show()"
   ]
  },
  {
   "attachments": {},
   "cell_type": "markdown",
   "metadata": {},
   "source": [
    "### NA Values"
   ]
  },
  {
   "cell_type": "code",
   "execution_count": null,
   "metadata": {},
   "outputs": [],
   "source": [
    "train_input.isna().sum()"
   ]
  },
  {
   "attachments": {},
   "cell_type": "markdown",
   "metadata": {},
   "source": [
    "**capuchon_insertion** might not be a relevent parameter, more than 50% of the population is na ($\\frac{18627}{34515} \\approx 0.53967840069$).  \n",
    "But nan values could also be filed with the average value as shown below...  \n",
    "If every/most defective individual is set to na then we can eliminate this feature.   "
   ]
  },
  {
   "cell_type": "code",
   "execution_count": null,
   "metadata": {},
   "outputs": [],
   "source": [
    "mean = train_input[\"capuchon_insertion\"].mean()\n",
    "capuchon_insertion_no_nan = train_input[\"capuchon_insertion\"].fillna(mean, inplace=False)\n",
    "capuchon_insertion_no_nan"
   ]
  },
  {
   "cell_type": "code",
   "execution_count": null,
   "metadata": {},
   "outputs": [],
   "source": [
    "train_input_defect = train_input.copy() # Deep copy\n",
    "defect_index = train_output.index[train_output[\"result\"] == 1].tolist()\n",
    "train_input_defect = train_input_defect.iloc[defect_index,:]\n",
    "train_input_defect.isna().sum()"
   ]
  },
  {
   "attachments": {},
   "cell_type": "markdown",
   "metadata": {},
   "source": [
    "Among the 305 defective individuals, 110 of them do not have a **capuchon_insertion** value ($\\frac{110}{305} \\approx 0.3606$).  \n",
    "Most of the defective individuals have a **capuchon_insertion** value, maybe it is worth keeping it...  "
   ]
  },
  {
   "attachments": {},
   "cell_type": "markdown",
   "metadata": {},
   "source": [
    "### PCA"
   ]
  },
  {
   "attachments": {},
   "cell_type": "markdown",
   "metadata": {},
   "source": [
    "#### Unscaled"
   ]
  },
  {
   "cell_type": "code",
   "execution_count": null,
   "metadata": {},
   "outputs": [],
   "source": [
    "# Load dataset for PCA\n",
    "train_input_pca, _ = utils.loadTrainingData(remove_id=True, remove_capuchon_insertion=True)\n",
    "\n",
    "# PCA\n",
    "pca = PCA()\n",
    "pca.fit(train_input_pca)\n",
    "\n",
    "pca.explained_variance_ratio_\n",
    "plt.xticks(range(12))\n",
    "plt.plot(range(12), pca.explained_variance_ratio_)"
   ]
  },
  {
   "cell_type": "code",
   "execution_count": null,
   "metadata": {},
   "outputs": [],
   "source": [
    "cumsum = np.cumsum(pca.explained_variance_ratio_)\n",
    "plt.xticks(range(12))\n",
    "plt.plot(range(12), cumsum)"
   ]
  },
  {
   "cell_type": "code",
   "execution_count": null,
   "metadata": {},
   "outputs": [],
   "source": [
    "pca_model = PCA(n_components=12).fit(train_input_pca)\n",
    "X_pca = pca_model.transform(train_input_pca)\n",
    "\n",
    "# Number of components\n",
    "nb_comp = pca_model.components_.shape[0]\n",
    "\n",
    "# Index of the most important feature on EACH component i.e. largest absolute value\n",
    "most_important = [np.abs(pca_model.components_[i]).argmax() for i in range(nb_comp)]\n",
    "\n",
    "# Features names\n",
    "initial_feature_names = pca_model.feature_names_in_\n",
    "\n",
    "# Name of the most important feature on EACH component\n",
    "most_important_names = [initial_feature_names[most_important[i]] for i in range(nb_comp)]\n",
    "\n",
    "dic = {'PC{}'.format(i+1) : most_important_names[i] for i in range(nb_comp)}\n",
    "\n",
    "# build the dataframe\n",
    "# df = pd.DataFrame(sorted(dic.items()))\n",
    "\n",
    "dic"
   ]
  },
  {
   "cell_type": "code",
   "execution_count": null,
   "metadata": {},
   "outputs": [],
   "source": [
    "# Create 3D figure\n",
    "fig = plt.figure(figsize=(20,10))\n",
    "ax = fig.add_subplot(projection='3d')\n",
    "\n",
    "# Plot with color\n",
    "colors = {1: 'red', 0: 'green'}\n",
    "ax.scatter(X_pca[:, 0], X_pca[:, 1], X_pca[:, 2], c=train_output[\"result\"].map(colors))\n",
    "\n",
    "# Set labels\n",
    "ax.set_xlabel('Dim 1')\n",
    "ax.set_ylabel('Dim 2')\n",
    "ax.set_zlabel('Dim 3')\n",
    "\n",
    "# Show figure\n",
    "plt.show()"
   ]
  },
  {
   "cell_type": "code",
   "execution_count": null,
   "metadata": {},
   "outputs": [],
   "source": [
    "# Create 2D figure\n",
    "fig = plt.figure(figsize=(20,10))\n",
    "ax = fig.add_subplot()\n",
    "\n",
    "# Plot with color and transparency\n",
    "colors = {1: 'red', 0: 'green'}\n",
    "alphas = {1: 1, 0: 0.1}\n",
    "ax.scatter(X_pca[:, 0], X_pca[:, 1], c=train_output[\"result\"].map(colors), alpha=train_output[\"result\"].map(alphas))\n",
    "\n",
    "# Set labels\n",
    "ax.set_xlabel('Dim 1')\n",
    "ax.set_ylabel('Dim 2')\n",
    "\n",
    "# Show figure\n",
    "plt.show()"
   ]
  },
  {
   "attachments": {},
   "cell_type": "markdown",
   "metadata": {},
   "source": [
    "#### Scaled"
   ]
  },
  {
   "cell_type": "code",
   "execution_count": null,
   "metadata": {},
   "outputs": [],
   "source": [
    "# Load dataset for PCA\n",
    "train_input_pca_scale, _ = utils.loadTrainingData(remove_id=True, remove_capuchon_insertion=True)\n",
    "\n",
    "# Scale data\n",
    "standard_scaler = StandardScaler(copy=False)\n",
    "standard_scaler.fit_transform(train_input_pca_scale)\n",
    "\n",
    "# PCA\n",
    "scaled_pca = PCA()\n",
    "scaled_pca.fit(train_input_pca_scale)\n",
    "\n",
    "scaled_pca.explained_variance_ratio_\n",
    "plt.xticks(range(12))\n",
    "plt.plot(range(12), scaled_pca.explained_variance_ratio_)"
   ]
  },
  {
   "cell_type": "code",
   "execution_count": null,
   "metadata": {},
   "outputs": [],
   "source": [
    "scaled_cumsum = np.cumsum(scaled_pca.explained_variance_ratio_)\n",
    "plt.xticks(range(12))\n",
    "plt.plot(range(12), scaled_cumsum)"
   ]
  },
  {
   "cell_type": "code",
   "execution_count": null,
   "metadata": {},
   "outputs": [],
   "source": [
    "scaled_pca_model = PCA(n_components=12).fit(train_input_pca_scale)\n",
    "X_scaled_pca = scaled_pca_model.transform(train_input_pca_scale)\n",
    "\n",
    "# Number of components\n",
    "nb_comp = scaled_pca_model.components_.shape[0]\n",
    "\n",
    "# Index of the most important feature on EACH component i.e. largest absolute value\n",
    "most_important = [np.abs(scaled_pca_model.components_[i]).argmax() for i in range(nb_comp)]\n",
    "\n",
    "# Features names\n",
    "initial_feature_names = scaled_pca_model.feature_names_in_\n",
    "\n",
    "# Name of the most important feature on EACH component\n",
    "most_important_names = [initial_feature_names[most_important[i]] for i in range(nb_comp)]\n",
    "\n",
    "scaled_dic = {'PC{}'.format(i+1) : most_important_names[i] for i in range(nb_comp)}\n",
    "\n",
    "# build the dataframe\n",
    "# df = pd.DataFrame(sorted(dic.items()))\n",
    "\n",
    "scaled_dic"
   ]
  },
  {
   "cell_type": "code",
   "execution_count": null,
   "metadata": {},
   "outputs": [],
   "source": [
    "# X_scaled_pca[:, :3]\n",
    "\n",
    "# Create 3D figure\n",
    "fig = plt.figure(figsize=(20,10))\n",
    "ax = fig.add_subplot(projection='3d')\n",
    "\n",
    "# Plot with color\n",
    "colors = {1:'red', 0:'green'}\n",
    "ax.scatter(X_scaled_pca[:, 0], X_scaled_pca[:, 1], X_scaled_pca[:, 2], c=train_output[\"result\"].map(colors))\n",
    "\n",
    "# Set labels\n",
    "ax.set_xlabel('Dim 1')\n",
    "ax.set_ylabel('Dim 2')\n",
    "ax.set_zlabel('Dim 3')\n",
    "\n",
    "# Show figure\n",
    "plt.show()\n"
   ]
  },
  {
   "cell_type": "code",
   "execution_count": null,
   "metadata": {},
   "outputs": [],
   "source": [
    "# Create 2D figure\n",
    "fig = plt.figure(figsize=(20,10))\n",
    "ax = fig.add_subplot()\n",
    "\n",
    "# Plot with color and transparency\n",
    "colors = {1: 'red', 0: 'green'}\n",
    "alphas = {1: 1, 0: 0.1}\n",
    "ax.scatter(X_scaled_pca[:, 0], X_scaled_pca[:, 1], c=train_output[\"result\"].map(colors), alpha=train_output[\"result\"].map(alphas))\n",
    "\n",
    "# Set labels\n",
    "ax.set_xlabel('Dim 1')\n",
    "ax.set_ylabel('Dim 2')\n",
    "\n",
    "# Show figure\n",
    "plt.show()"
   ]
  },
  {
   "attachments": {},
   "cell_type": "markdown",
   "metadata": {},
   "source": [
    "### Removing Outliers"
   ]
  },
  {
   "cell_type": "code",
   "execution_count": null,
   "metadata": {},
   "outputs": [],
   "source": [
    "train_input, train_output = utils.loadTrainingData(remove_id=True, remove_capuchon_insertion=True)\n",
    "X_train, X_test, y_train, y_test = train_test_split(train_input, train_output, test_size = 0.3, random_state = 123)\n",
    "\n",
    "# Scale data (MLP is very sensitive to scaling)\n",
    "scaler = StandardScaler()\n",
    "scaler.fit(X_train)\n",
    "X_train = scaler.transform(X_train)\n",
    "X_test = scaler.transform(X_test)\n",
    "\n",
    "# Scale data (MLP is very sensitive to scaling)\n",
    "scaler = StandardScaler()\n",
    "scaler.fit(X_train)\n",
    "X_train = scaler.transform(X_train)\n",
    "X_test = scaler.transform(X_test)\n",
    "\n",
    "# Copy dataset\n",
    "train_input_remove = train_input.copy()\n",
    "train_output_remove = train_output.copy()\n",
    "\n",
    "# Scale data (MLP is very sensitive to scaling and allow for a unique treshold)\n",
    "# scaler = StandardScaler()\n",
    "# scaler.fit(X_train)\n",
    "# X_train = scaler.transform(X_train)\n",
    "# X_test = scaler.transform(X_test)\n",
    "\n",
    "# Find outliers\n",
    "\n",
    "input_header = {\"PROC_TRACEINFO\": \"id\",\n",
    "                    \"OP070_V_1_angle_value\": \"angle_1\",\n",
    "                    \"OP090_SnapRingPeakForce_value\": \"snap_ring_peak_force\",\n",
    "                    \"OP070_V_2_angle_value\": \"angle_2\",\n",
    "                    \"OP120_Rodage_I_mesure_value\": \"rodage_i\",\n",
    "                    \"OP090_SnapRingFinalStroke_value\": \"snap_ring_final_stroke\",\n",
    "                    \"OP110_Vissage_M8_torque_value\": \"vissage_m8_torque\",\n",
    "                    \"OP100_Capuchon_insertion_mesure\": \"capuchon_insertion\",\n",
    "                    \"OP120_Rodage_U_mesure_value\": \"rodage_u\",\n",
    "                    \"OP070_V_1_torque_value\": \"torque_1\",\n",
    "                    \"OP090_StartLinePeakForce_value\": \"start_line_peak_force\",\n",
    "                    \"OP110_Vissage_M8_angle_value\": \"vissage_m8_angle\",\n",
    "                    \"OP090_SnapRingMidPointForce_val\": \"snap_ring_midpoint_force\",\n",
    "                    \"OP070_V_2_torque_value\": \"torque_2\"}\n",
    "\n",
    "threshold = 3\n",
    "outliers = np.array([], dtype = int)\n",
    "for col_name in list(input_header.values())[1:]:\n",
    "    z = np.abs(stats.zscore(train_input[col_name]))\n",
    "    outliers = np.append(outliers, np.where(z > threshold))\n",
    "outliers_no_duplicate = np.array([], dtype=int)\n",
    "for i in range(np.size(outliers)):\n",
    "    if(outliers[i] not in outliers_no_duplicate):\n",
    "        outliers_no_duplicate = np.append(outliers_no_duplicate, outliers[i])\n",
    "np.size(outliers_no_duplicate)\n",
    "\n",
    "# Randomly remove some valid individuals\n",
    "train_input_remove = train_input_remove.iloc[~outliers_no_duplicate,:]\n",
    "\n",
    "# Create new datasets\n",
    "train_input_remove = train_input_remove[train_input_remove.columns[~train_input_remove.columns.isin([\"id\", \"capuchon_insertion\"])]]\n",
    "\n",
    "for column in train_input_remove.columns.tolist()[1:]:\n",
    "    plt.figure()\n",
    "    train_input_remove.boxplot([column])"
   ]
  },
  {
   "attachments": {},
   "cell_type": "markdown",
   "metadata": {},
   "source": [
    "## Training Output Dataset"
   ]
  },
  {
   "cell_type": "code",
   "execution_count": null,
   "metadata": {},
   "outputs": [],
   "source": [
    "_, train_output = utils.loadTrainingData()\n",
    "train_output\n",
    "# train_output.shape"
   ]
  },
  {
   "cell_type": "code",
   "execution_count": null,
   "metadata": {},
   "outputs": [],
   "source": [
    "# train_output_bool = train_output.copy() # Deep copy\n",
    "# train_output_bool[\"result\"] = train_output_bool[\"result\"].astype(bool)\n",
    "# train_output_bool"
   ]
  },
  {
   "cell_type": "code",
   "execution_count": null,
   "metadata": {},
   "outputs": [],
   "source": [
    "train_output[\"result\"].value_counts()"
   ]
  },
  {
   "attachments": {},
   "cell_type": "markdown",
   "metadata": {},
   "source": [
    "Unbalanced result classes. Defect class is under-represented in the population ($\\frac{305}{34515} \\approx 0.008836737650296972$)."
   ]
  }
 ],
 "metadata": {
  "kernelspec": {
   "display_name": "base",
   "language": "python",
   "name": "python3"
  },
  "language_info": {
   "codemirror_mode": {
    "name": "ipython",
    "version": 3
   },
   "file_extension": ".py",
   "mimetype": "text/x-python",
   "name": "python",
   "nbconvert_exporter": "python",
   "pygments_lexer": "ipython3",
   "version": "3.9.12"
  },
  "orig_nbformat": 4,
  "vscode": {
   "interpreter": {
    "hash": "60e99164659eb01783c8f561e8a597a048720cf8240e4ce5ecfbb52f98d8d756"
   }
  }
 },
 "nbformat": 4,
 "nbformat_minor": 2
}
