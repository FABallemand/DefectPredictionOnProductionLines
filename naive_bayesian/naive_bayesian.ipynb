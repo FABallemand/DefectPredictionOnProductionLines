{
 "cells": [
  {
   "attachments": {},
   "cell_type": "markdown",
   "metadata": {},
   "source": [
    "# Naive Bayesian Classifier"
   ]
  },
  {
   "cell_type": "code",
   "execution_count": 27,
   "metadata": {},
   "outputs": [],
   "source": [
    "import pandas as pd\n",
    "import random as rd\n",
    "from sklearn import datasets\n",
    "from sklearn.model_selection import train_test_split, cross_val_score\n",
    "from sklearn.naive_bayes import GaussianNB\n",
    "from sklearn import metrics"
   ]
  },
  {
   "attachments": {},
   "cell_type": "markdown",
   "metadata": {},
   "source": [
    "## Loading Dataset"
   ]
  },
  {
   "cell_type": "code",
   "execution_count": 5,
   "metadata": {},
   "outputs": [],
   "source": [
    "input_header = {\"PROC_TRACEINFO\" : \"id\",\n",
    "                \"OP070_V_1_angle_value\": \"angle_1\",\n",
    "                \"OP090_SnapRingPeakForce_value\" : \"snap_ring_peak_force\",\n",
    "                \"OP070_V_2_angle_value\" : \"angle_2\",\n",
    "                \"OP120_Rodage_I_mesure_value\" : \"rodage_i\",\n",
    "                \"OP090_SnapRingFinalStroke_value\" : \"snap_ring_final_stroke\",\n",
    "                \"OP110_Vissage_M8_torque_value\" : \"vissage_m8_torque\",\n",
    "                \"OP100_Capuchon_insertion_mesure\" : \"capuchon_insertion\",\n",
    "                \"OP120_Rodage_U_mesure_value\" : \"rodage_u\",\n",
    "                \"OP070_V_1_torque_value\" : \"torque_1\",\n",
    "                \"OP090_StartLinePeakForce_value\" : \"start_line_peak_force\",\n",
    "                \"OP110_Vissage_M8_angle_value\" : \"vissage_m8_angle\",\n",
    "                \"OP090_SnapRingMidPointForce_val\" : \"snap_ring_midpoint_force\",\n",
    "                \"OP070_V_2_torque_value\" : \"torque_2\"}\n",
    "output_header = {\"PROC_TRACEINFO\" : \"id\",\n",
    "                 \"Binar OP130_Resultat_Global_v\" : \"result\"}\n",
    "\n",
    "train_input = pd.read_csv(\"../data/train_inputs.csv\", header=0).rename(columns=input_header)\n",
    "train_output = pd.read_csv(\"../data/train_output.csv\", header=0).rename(columns=output_header)"
   ]
  },
  {
   "attachments": {},
   "cell_type": "markdown",
   "metadata": {},
   "source": [
    "## Preparing Dataset"
   ]
  },
  {
   "cell_type": "code",
   "execution_count": 17,
   "metadata": {},
   "outputs": [],
   "source": [
    "train_input_ = train_input[train_input.columns[~train_input.columns.isin([\"id\", \"capuchon_insertion\"])]]\n",
    "X_train, X_test, y_train, y_test = train_test_split(train_input_, train_output[\"result\"], test_size = 0.3, random_state = 123)"
   ]
  },
  {
   "attachments": {},
   "cell_type": "markdown",
   "metadata": {},
   "source": [
    "## Model Generation"
   ]
  },
  {
   "cell_type": "code",
   "execution_count": 18,
   "metadata": {},
   "outputs": [
    {
     "data": {
      "text/plain": [
       "GaussianNB()"
      ]
     },
     "execution_count": 18,
     "metadata": {},
     "output_type": "execute_result"
    }
   ],
   "source": [
    "gnb = GaussianNB()\n",
    "gnb.fit(X_train, y_train)"
   ]
  },
  {
   "attachments": {},
   "cell_type": "markdown",
   "metadata": {},
   "source": [
    "## Model Evaluation"
   ]
  },
  {
   "cell_type": "code",
   "execution_count": 22,
   "metadata": {},
   "outputs": [
    {
     "data": {
      "text/plain": [
       "0.9908256880733946"
      ]
     },
     "execution_count": 22,
     "metadata": {},
     "output_type": "execute_result"
    }
   ],
   "source": [
    "y_pred = gnb.predict(X_test)\n",
    "\n",
    "metrics.accuracy_score(y_test, y_pred)"
   ]
  },
  {
   "attachments": {},
   "cell_type": "markdown",
   "metadata": {},
   "source": [
    "## Balancing Classes"
   ]
  },
  {
   "attachments": {},
   "cell_type": "markdown",
   "metadata": {},
   "source": [
    "### Remove Individuals"
   ]
  },
  {
   "cell_type": "code",
   "execution_count": 28,
   "metadata": {},
   "outputs": [
    {
     "data": {
      "text/plain": [
       "0.990451135145669"
      ]
     },
     "execution_count": 28,
     "metadata": {},
     "output_type": "execute_result"
    }
   ],
   "source": [
    "# Copy dataset\n",
    "train_input_remove = train_input.copy()\n",
    "train_output_remove = train_output.copy()\n",
    "\n",
    "# Select relevant index\n",
    "defect_index = train_output.index[train_output[\"result\"] == 1].tolist()\n",
    "valid_index = train_output.index[train_output[\"result\"] == 0].tolist()\n",
    "rd.shuffle(valid_index) # Shuffle in order to eliminated \"production correlation\"\n",
    "\n",
    "# Remove \n",
    "train_input_remove = train_input_remove.iloc[valid_index[len(defect_index):] + defect_index,:]\n",
    "train_output_remove = train_output_remove.iloc[valid_index[len(defect_index):] + defect_index,:]\n",
    "\n",
    "train_input_ = train_input_remove[train_input_remove.columns[~train_input_remove.columns.isin([\"id\", \"capuchon_insertion\"])]]\n",
    "X_train, X_test, y_train, y_test = train_test_split(train_input_, train_output_remove[\"result\"], test_size = 0.3, random_state = 123)\n",
    "\n",
    "gnb = GaussianNB()\n",
    "gnb.fit(X_train, y_train)\n",
    "\n",
    "y_pred = gnb.predict(X_test)\n",
    "metrics.accuracy_score(y_test, y_pred)"
   ]
  },
  {
   "attachments": {},
   "cell_type": "markdown",
   "metadata": {},
   "source": [
    "## Cross Validation"
   ]
  },
  {
   "cell_type": "code",
   "execution_count": 26,
   "metadata": {},
   "outputs": [
    {
     "data": {
      "text/plain": [
       "array([0.99087353, 0.99116326, 0.9910184 , 0.9910184 , 0.99116326])"
      ]
     },
     "execution_count": 26,
     "metadata": {},
     "output_type": "execute_result"
    }
   ],
   "source": [
    "train_input_ = train_input[train_input.columns[~train_input.columns.isin([\"id\", \"capuchon_insertion\"])]]\n",
    "\n",
    "gnb_cross = GaussianNB()\n",
    "\n",
    "scores = cross_val_score(gnb_cross, train_input_, train_output[\"result\"], cv = 5)\n",
    "scores"
   ]
  },
  {
   "attachments": {},
   "cell_type": "markdown",
   "metadata": {},
   "source": [
    "## Balance Classes"
   ]
  },
  {
   "attachments": {},
   "cell_type": "markdown",
   "metadata": {},
   "source": [
    "## Tests"
   ]
  },
  {
   "cell_type": "code",
   "execution_count": 3,
   "metadata": {},
   "outputs": [
    {
     "data": {
      "text/plain": [
       "sklearn.utils.Bunch"
      ]
     },
     "execution_count": 3,
     "metadata": {},
     "output_type": "execute_result"
    }
   ],
   "source": [
    "test = datasets.load_wine()\n",
    "type(test)"
   ]
  }
 ],
 "metadata": {
  "kernelspec": {
   "display_name": "base",
   "language": "python",
   "name": "python3"
  },
  "language_info": {
   "codemirror_mode": {
    "name": "ipython",
    "version": 3
   },
   "file_extension": ".py",
   "mimetype": "text/x-python",
   "name": "python",
   "nbconvert_exporter": "python",
   "pygments_lexer": "ipython3",
   "version": "3.9.12"
  },
  "orig_nbformat": 4,
  "vscode": {
   "interpreter": {
    "hash": "60e99164659eb01783c8f561e8a597a048720cf8240e4ce5ecfbb52f98d8d756"
   }
  }
 },
 "nbformat": 4,
 "nbformat_minor": 2
}
