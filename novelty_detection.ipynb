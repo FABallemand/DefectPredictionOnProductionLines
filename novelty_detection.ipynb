{
 "cells": [
  {
   "attachments": {},
   "cell_type": "markdown",
   "metadata": {},
   "source": [
    "# Novelty detection\n",
    "\n",
    "The training data is not polluted by outliers and we are interested in detecting whether a new observation is an outlier. In this context an outlier is also called a novelty.\n",
    "\n",
    "- [2.7. Novelty and Outlier Detection](https://scikit-learn.org/stable/modules/outlier_detection.html)  \n",
    "- [One-class SVM with non-linear kernel (RBF)](https://scikit-learn.org/stable/auto_examples/svm/plot_oneclass.html#sphx-glr-auto-examples-svm-plot-oneclass-py)  \n",
    "- [One Class SVM for Anomaly Detection | Unsupervised Machine Learning](https://www.youtube.com/watch?v=0IkFnHpUUjE&ab_channel=GrabNGoInfo)"
   ]
  },
  {
   "cell_type": "code",
   "execution_count": 1,
   "metadata": {},
   "outputs": [],
   "source": [
    "import pandas as pd\n",
    "import numpy as np\n",
    "import random as rd\n",
    "from sklearn import datasets\n",
    "from sklearn.model_selection import train_test_split, cross_val_score\n",
    "from sklearn import svm\n",
    "from sklearn import metrics\n",
    "from sklearn.metrics import confusion_matrix, plot_confusion_matrix, classification_report\n",
    "import matplotlib.pyplot as plt\n",
    "\n",
    "import utils"
   ]
  },
  {
   "attachments": {},
   "cell_type": "markdown",
   "metadata": {},
   "source": [
    "## Base Line"
   ]
  },
  {
   "attachments": {},
   "cell_type": "markdown",
   "metadata": {},
   "source": [
    "When training the model we have to specify the percentage of defective individuals in the population (nu). We know that this ratio is approximatly equal to 0.008."
   ]
  },
  {
   "cell_type": "code",
   "execution_count": 2,
   "metadata": {},
   "outputs": [
    {
     "data": {
      "text/plain": [
       "0.04567841622404636"
      ]
     },
     "execution_count": 2,
     "metadata": {},
     "output_type": "execute_result"
    }
   ],
   "source": [
    "# Load data\n",
    "train_input, train_output = utils.loadTrainingData(remove_id=True, remove_capuchon_insertion=True)\n",
    "X_train, X_test, y_train, y_test = train_test_split(train_input, train_output, test_size = 0.3, random_state = 42)\n",
    "\n",
    "# Create model\n",
    "clf = svm.OneClassSVM(nu=0.008, kernel=\"rbf\", gamma=\"auto\")\n",
    "clf.fit(X_train)\n",
    "\n",
    "# Prediction\n",
    "y_pred = clf.predict(X_test)\n",
    "y_pred = [1 if i==-1 else 0 for i in y_pred]\n",
    "\n",
    "# Evaluation\n",
    "metrics.accuracy_score(y_test, y_pred)"
   ]
  },
  {
   "cell_type": "code",
   "execution_count": 3,
   "metadata": {},
   "outputs": [
    {
     "name": "stdout",
     "output_type": "stream",
     "text": [
      "[[ 384 9879]\n",
      " [   3   89]]\n",
      "              precision    recall  f1-score   support\n",
      "\n",
      "           0       0.99      0.04      0.07     10263\n",
      "           1       0.01      0.97      0.02        92\n",
      "\n",
      "    accuracy                           0.05     10355\n",
      "   macro avg       0.50      0.50      0.04     10355\n",
      "weighted avg       0.98      0.05      0.07     10355\n",
      "\n"
     ]
    }
   ],
   "source": [
    "print(confusion_matrix(y_test, y_pred))\n",
    "print(classification_report(y_test, y_pred))"
   ]
  },
  {
   "cell_type": "code",
   "execution_count": 4,
   "metadata": {},
   "outputs": [
    {
     "data": {
      "text/plain": [
       "<AxesSubplot:>"
      ]
     },
     "execution_count": 4,
     "metadata": {},
     "output_type": "execute_result"
    },
    {
     "data": {
      "image/png": "[encoded data removed]",
      "text/plain": [
       "<Figure size 432x288 with 1 Axes>"
      ]
     },
     "metadata": {
      "needs_background": "light"
     },
     "output_type": "display_data"
    }
   ],
   "source": [
    "import seaborn as sns\n",
    "matrix_confusion = confusion_matrix(y_test, y_pred)\n",
    "sns.heatmap(matrix_confusion, square=True, annot=True, cmap='Blues', fmt='d', cbar=False)"
   ]
  },
  {
   "cell_type": "code",
   "execution_count": 5,
   "metadata": {},
   "outputs": [],
   "source": [
    "# # Select index\n",
    "# defect_index = train_output.index[train_output[\"result\"] == 1].tolist()\n",
    "# valid_index = train_output.index[train_output[\"result\"] == 0].tolist()\n",
    "\n",
    "# # Separate valide/defective individuals\n",
    "# train_input_valid = train_input.iloc[valid_index,:]\n",
    "# train_input_defect = train_input.iloc[defect_index,:]\n",
    "\n",
    "# # Create training/testing set from valid individuals (80%/20%)\n",
    "# training_index = np.random.choice(len(valid_index)-1, size=int(0.8*len(valid_index)), replace=False) # 80% training / 20% testing\n",
    "# testing_index = []\n",
    "# for i in range(len(valid_index)):\n",
    "#     if i not in training_index:\n",
    "#         testing_index.append(i)\n",
    "# X_train = train_input_valid.iloc[training_index,:]\n",
    "# X_test = train_input_valid.iloc[testing_index,:]"
   ]
  },
  {
   "attachments": {},
   "cell_type": "markdown",
   "metadata": {},
   "source": [
    "## Balanced Classes\n",
    "\n",
    "There is now 50% anomalies in our dataset.\n",
    "\n",
    "### Removing Individuals"
   ]
  },
  {
   "cell_type": "code",
   "execution_count": 6,
   "metadata": {},
   "outputs": [
    {
     "data": {
      "text/plain": [
       "0.43169398907103823"
      ]
     },
     "execution_count": 6,
     "metadata": {},
     "output_type": "execute_result"
    }
   ],
   "source": [
    "# Load date and balance classes\n",
    "train_input, train_output = utils.loadTrainingData(remove_id=True, remove_capuchon_insertion=True)\n",
    "train_input, train_output = utils.balanceClassesByRemoving(train_input, train_output)\n",
    "X_train, X_test, y_train, y_test = train_test_split(train_input, train_output, test_size = 0.3, random_state = 42)\n",
    "\n",
    "# Create model\n",
    "clf = svm.OneClassSVM(nu=0.5, kernel=\"rbf\", gamma=\"auto\")\n",
    "clf.fit(X_train)\n",
    "\n",
    "# Prediction\n",
    "y_pred = clf.predict(X_test)\n",
    "y_pred = [1 if i==-1 else 0 for i in y_pred]\n",
    "\n",
    "# Evaluation\n",
    "metrics.accuracy_score(y_test, y_pred)"
   ]
  },
  {
   "cell_type": "code",
   "execution_count": 7,
   "metadata": {},
   "outputs": [
    {
     "name": "stdout",
     "output_type": "stream",
     "text": [
      "[[  0 104]\n",
      " [  0  79]]\n",
      "              precision    recall  f1-score   support\n",
      "\n",
      "           0       0.00      0.00      0.00       104\n",
      "           1       0.43      1.00      0.60        79\n",
      "\n",
      "    accuracy                           0.43       183\n",
      "   macro avg       0.22      0.50      0.30       183\n",
      "weighted avg       0.19      0.43      0.26       183\n",
      "\n"
     ]
    },
    {
     "name": "stderr",
     "output_type": "stream",
     "text": [
      "/home/fabien/anaconda3/lib/python3.9/site-packages/sklearn/metrics/_classification.py:1318: UndefinedMetricWarning: Precision and F-score are ill-defined and being set to 0.0 in labels with no predicted samples. Use `zero_division` parameter to control this behavior.\n",
      "  _warn_prf(average, modifier, msg_start, len(result))\n",
      "/home/fabien/anaconda3/lib/python3.9/site-packages/sklearn/metrics/_classification.py:1318: UndefinedMetricWarning: Precision and F-score are ill-defined and being set to 0.0 in labels with no predicted samples. Use `zero_division` parameter to control this behavior.\n",
      "  _warn_prf(average, modifier, msg_start, len(result))\n",
      "/home/fabien/anaconda3/lib/python3.9/site-packages/sklearn/metrics/_classification.py:1318: UndefinedMetricWarning: Precision and F-score are ill-defined and being set to 0.0 in labels with no predicted samples. Use `zero_division` parameter to control this behavior.\n",
      "  _warn_prf(average, modifier, msg_start, len(result))\n"
     ]
    }
   ],
   "source": [
    "print(confusion_matrix(y_test, y_pred))\n",
    "print(classification_report(y_test, y_pred))"
   ]
  },
  {
   "cell_type": "code",
   "execution_count": 8,
   "metadata": {},
   "outputs": [
    {
     "data": {
      "text/plain": [
       "<AxesSubplot:>"
      ]
     },
     "execution_count": 8,
     "metadata": {},
     "output_type": "execute_result"
    },
    {
     "data": {
      "image/png": "[encoded data removed]",
      "text/plain": [
       "<Figure size 432x288 with 1 Axes>"
      ]
     },
     "metadata": {
      "needs_background": "light"
     },
     "output_type": "display_data"
    }
   ],
   "source": [
    "import seaborn as sns\n",
    "matrix_confusion = confusion_matrix(y_test, y_pred)\n",
    "sns.heatmap(matrix_confusion, square=True, annot=True, cmap='Blues', fmt='d', cbar=False)"
   ]
  },
  {
   "cell_type": "code",
   "execution_count": 9,
   "metadata": {},
   "outputs": [
    {
     "name": "stdout",
     "output_type": "stream",
     "text": [
      "[[51 53]\n",
      " [41 38]]\n",
      "              precision    recall  f1-score   support\n",
      "\n",
      "           0       0.55      0.49      0.52       104\n",
      "           1       0.42      0.48      0.45        79\n",
      "\n",
      "    accuracy                           0.49       183\n",
      "   macro avg       0.49      0.49      0.48       183\n",
      "weighted avg       0.50      0.49      0.49       183\n",
      "\n"
     ]
    }
   ],
   "source": [
    "# Get the scores for the testing dataset\n",
    "score = clf.score_samples(X_test)\n",
    "\n",
    "# Check the score for x% anomalies\n",
    "percentage = 50\n",
    "score_threshold = np.percentile(score, percentage)\n",
    "\n",
    "# Check the model performance at x% threshold\n",
    "customized_prediction = [1 if i < score_threshold else 0 for i in score]\n",
    "\n",
    "# Prediction performance\n",
    "print(confusion_matrix(y_test, customized_prediction))\n",
    "print(classification_report(y_test, customized_prediction))"
   ]
  },
  {
   "attachments": {},
   "cell_type": "markdown",
   "metadata": {},
   "source": [
    "### Duplicating Individuals"
   ]
  },
  {
   "cell_type": "code",
   "execution_count": 18,
   "metadata": {},
   "outputs": [],
   "source": [
    "# Load date and balance classes\n",
    "train_input, train_output = utils.loadTrainingData(remove_id=True, remove_capuchon_insertion=True)\n",
    "X_train, X_test, y_train, y_test = train_test_split(train_input, train_output, test_size = 0.3, random_state = 42)\n",
    "X_train.reset_index(drop=True, inplace=True)\n",
    "y_train.reset_index(drop=True, inplace=True)\n",
    "X_train, y_train = utils.balanceClassesByDuplicating(X_train, y_train)"
   ]
  },
  {
   "cell_type": "code",
   "execution_count": 31,
   "metadata": {},
   "outputs": [
    {
     "data": {
      "text/plain": [
       "0.021728633510381457"
      ]
     },
     "execution_count": 31,
     "metadata": {},
     "output_type": "execute_result"
    }
   ],
   "source": [
    "# Create model\n",
    "clf = svm.OneClassSVM(nu=0.5, kernel=\"rbf\", gamma=\"auto\") # poly linear rbf sigmoid\n",
    "clf.fit(X_train)\n",
    "\n",
    "# Prediction\n",
    "y_pred = clf.predict(X_test)\n",
    "y_pred = [1 if i==-1 else 0 for i in y_pred]\n",
    "\n",
    "# Evaluation\n",
    "metrics.accuracy_score(y_test, y_pred)"
   ]
  },
  {
   "cell_type": "code",
   "execution_count": 32,
   "metadata": {},
   "outputs": [
    {
     "name": "stdout",
     "output_type": "stream",
     "text": [
      "[[  135 10128]\n",
      " [    2    90]]\n",
      "              precision    recall  f1-score   support\n",
      "\n",
      "           0       0.99      0.01      0.03     10263\n",
      "           1       0.01      0.98      0.02        92\n",
      "\n",
      "    accuracy                           0.02     10355\n",
      "   macro avg       0.50      0.50      0.02     10355\n",
      "weighted avg       0.98      0.02      0.03     10355\n",
      "\n"
     ]
    }
   ],
   "source": [
    "print(confusion_matrix(y_test, y_pred))\n",
    "print(classification_report(y_test, y_pred))"
   ]
  },
  {
   "cell_type": "code",
   "execution_count": 33,
   "metadata": {},
   "outputs": [
    {
     "data": {
      "text/plain": [
       "<AxesSubplot:>"
      ]
     },
     "execution_count": 33,
     "metadata": {},
     "output_type": "execute_result"
    },
    {
     "data": {
      "image/png": "[encoded data removed]",
      "text/plain": [
       "<Figure size 432x288 with 1 Axes>"
      ]
     },
     "metadata": {
      "needs_background": "light"
     },
     "output_type": "display_data"
    }
   ],
   "source": [
    "import seaborn as sns\n",
    "matrix_confusion = confusion_matrix(y_test, y_pred)\n",
    "sns.heatmap(matrix_confusion, square=True, annot=True, cmap='Blues', fmt='d', cbar=False)"
   ]
  },
  {
   "cell_type": "code",
   "execution_count": 36,
   "metadata": {},
   "outputs": [
    {
     "ename": "TypeError",
     "evalue": "modelEvaluation() got an unexpected keyword argument 'novelty_detection'",
     "output_type": "error",
     "traceback": [
      "\u001b[0;31m---------------------------------------------------------------------------\u001b[0m",
      "\u001b[0;31mTypeError\u001b[0m                                 Traceback (most recent call last)",
      "\u001b[1;32m/home/fabien/TPS/2A/Apprentissage Automatique/DefectPredictionOnProductionLines/novelty_detection.ipynb Cell 19\u001b[0m in \u001b[0;36m<cell line: 3>\u001b[0;34m()\u001b[0m\n\u001b[1;32m      <a href='vscode-notebook-cell:/home/fabien/TPS/2A/Apprentissage%20Automatique/DefectPredictionOnProductionLines/novelty_detection.ipynb#X24sZmlsZQ%3D%3D?line=2'>3</a>\u001b[0m \u001b[39mfor\u001b[39;00m kernel \u001b[39min\u001b[39;00m kernels:\n\u001b[1;32m      <a href='vscode-notebook-cell:/home/fabien/TPS/2A/Apprentissage%20Automatique/DefectPredictionOnProductionLines/novelty_detection.ipynb#X24sZmlsZQ%3D%3D?line=3'>4</a>\u001b[0m     \u001b[39m# Create model\u001b[39;00m\n\u001b[1;32m      <a href='vscode-notebook-cell:/home/fabien/TPS/2A/Apprentissage%20Automatique/DefectPredictionOnProductionLines/novelty_detection.ipynb#X24sZmlsZQ%3D%3D?line=4'>5</a>\u001b[0m     clf \u001b[39m=\u001b[39m svm\u001b[39m.\u001b[39mOneClassSVM(nu\u001b[39m=\u001b[39m\u001b[39m0.5\u001b[39m, kernel\u001b[39m=\u001b[39m\u001b[39m\"\u001b[39m\u001b[39mrbf\u001b[39m\u001b[39m\"\u001b[39m, gamma\u001b[39m=\u001b[39m\u001b[39m\"\u001b[39m\u001b[39mauto\u001b[39m\u001b[39m\"\u001b[39m) \u001b[39m# poly linear rbf sigmoid\u001b[39;00m\n\u001b[0;32m----> <a href='vscode-notebook-cell:/home/fabien/TPS/2A/Apprentissage%20Automatique/DefectPredictionOnProductionLines/novelty_detection.ipynb#X24sZmlsZQ%3D%3D?line=5'>6</a>\u001b[0m     utils\u001b[39m.\u001b[39;49mmodelEvaluation(clf, train_input, train_output, balance_classes\u001b[39m=\u001b[39;49m\u001b[39mTrue\u001b[39;49;00m, scale_data\u001b[39m=\u001b[39;49m\u001b[39mFalse\u001b[39;49;00m, novelty_detection\u001b[39m=\u001b[39;49m\u001b[39mTrue\u001b[39;49;00m, model_name\u001b[39m=\u001b[39;49m\u001b[39m\"\u001b[39;49m\u001b[39mOne Class SVM Classifer (\u001b[39;49m\u001b[39m\"\u001b[39;49m \u001b[39m+\u001b[39;49m kernel \u001b[39m+\u001b[39;49m \u001b[39m\"\u001b[39;49m\u001b[39m)\u001b[39;49m\u001b[39m\"\u001b[39;49m, fig_name\u001b[39m=\u001b[39;49m\u001b[39m\"\u001b[39;49m\u001b[39mosvm_\u001b[39;49m\u001b[39m\"\u001b[39;49m \u001b[39m+\u001b[39;49m kernel \u001b[39m+\u001b[39;49m \u001b[39m\"\u001b[39;49m\u001b[39m_d\u001b[39;49m\u001b[39m\"\u001b[39;49m)\n",
      "\u001b[0;31mTypeError\u001b[0m: modelEvaluation() got an unexpected keyword argument 'novelty_detection'"
     ]
    }
   ],
   "source": [
    "train_input, train_output = utils.loadTrainingData(remove_id=True, remove_capuchon_insertion=True)\n",
    "kernels = [\"linear\", \"rbf\", \"poly\", \"sigmoid\"]\n",
    "for kernel in kernels:\n",
    "    # Create model\n",
    "    clf = svm.OneClassSVM(nu=0.5, kernel=\"rbf\", gamma=\"auto\") # poly linear rbf sigmoid\n",
    "    utils.modelEvaluation(clf, train_input, train_output, balance_classes=True, scale_data=False, novelty_detection=True, model_name=\"One Class SVM Classifer (\" + kernel + \")\", fig_name=\"osvm_\" + kernel + \"_d\")"
   ]
  }
 ],
 "metadata": {
  "kernelspec": {
   "display_name": "base",
   "language": "python",
   "name": "python3"
  },
  "language_info": {
   "codemirror_mode": {
    "name": "ipython",
    "version": 3
   },
   "file_extension": ".py",
   "mimetype": "text/x-python",
   "name": "python",
   "nbconvert_exporter": "python",
   "pygments_lexer": "ipython3",
   "version": "3.9.12"
  },
  "orig_nbformat": 4,
  "vscode": {
   "interpreter": {
    "hash": "60e99164659eb01783c8f561e8a597a048720cf8240e4ce5ecfbb52f98d8d756"
   }
  }
 },
 "nbformat": 4,
 "nbformat_minor": 2
}
