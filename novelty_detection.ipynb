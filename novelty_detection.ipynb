{
 "cells": [
  {
   "attachments": {},
   "cell_type": "markdown",
   "metadata": {},
   "source": [
    "# Novelty detection\n",
    "\n",
    "The training data is not polluted by outliers and we are interested in detecting whether a new observation is an outlier. In this context an outlier is also called a novelty.\n",
    "\n",
    "[2.7. Novelty and Outlier Detection](https://scikit-learn.org/stable/modules/outlier_detection.html)  \n",
    "[One-class SVM with non-linear kernel (RBF)](https://scikit-learn.org/stable/auto_examples/svm/plot_oneclass.html#sphx-glr-auto-examples-svm-plot-oneclass-py)"
   ]
  },
  {
   "cell_type": "code",
   "execution_count": 1,
   "metadata": {},
   "outputs": [],
   "source": [
    "import numpy as np\n",
    "import random as rd\n",
    "import pandas as pd\n",
    "from sklearn.preprocessing import StandardScaler\n",
    "from sklearn import svm\n",
    "from sklearn.model_selection import train_test_split, cross_val_score\n",
    "from sklearn import metrics\n",
    "from sklearn.metrics import confusion_matrix, plot_confusion_matrix\n",
    "import matplotlib.pyplot as plt\n",
    "from scipy import stats"
   ]
  },
  {
   "attachments": {},
   "cell_type": "markdown",
   "metadata": {},
   "source": [
    "## Loading Dataset"
   ]
  },
  {
   "cell_type": "code",
   "execution_count": 4,
   "metadata": {},
   "outputs": [],
   "source": [
    "input_header = {\"PROC_TRACEINFO\" : \"id\",\n",
    "                \"OP070_V_1_angle_value\": \"angle_1\",\n",
    "                \"OP090_SnapRingPeakForce_value\" : \"snap_ring_peak_force\",\n",
    "                \"OP070_V_2_angle_value\" : \"angle_2\",\n",
    "                \"OP120_Rodage_I_mesure_value\" : \"rodage_i\",\n",
    "                \"OP090_SnapRingFinalStroke_value\" : \"snap_ring_final_stroke\",\n",
    "                \"OP110_Vissage_M8_torque_value\" : \"vissage_m8_torque\",\n",
    "                \"OP100_Capuchon_insertion_mesure\" : \"capuchon_insertion\",\n",
    "                \"OP120_Rodage_U_mesure_value\" : \"rodage_u\",\n",
    "                \"OP070_V_1_torque_value\" : \"torque_1\",\n",
    "                \"OP090_StartLinePeakForce_value\" : \"start_line_peak_force\",\n",
    "                \"OP110_Vissage_M8_angle_value\" : \"vissage_m8_angle\",\n",
    "                \"OP090_SnapRingMidPointForce_val\" : \"snap_ring_midpoint_force\",\n",
    "                \"OP070_V_2_torque_value\" : \"torque_2\"}\n",
    "output_header = {\"PROC_TRACEINFO\" : \"id\",\n",
    "                 \"Binar OP130_Resultat_Global_v\" : \"result\"}\n",
    "\n",
    "train_input = pd.read_csv(\"data/train_inputs.csv\", header=0).rename(columns=input_header)\n",
    "train_input = train_input[train_input.columns[~train_input.columns.isin([\"id\", \"capuchon_insertion\"])]]\n",
    "train_output = pd.read_csv(\"data/train_output.csv\", header=0).rename(columns=output_header)\n",
    "\n",
    "# Select index\n",
    "defect_index = train_output.index[train_output[\"result\"] == 1].tolist()\n",
    "valid_index = train_output.index[train_output[\"result\"] == 0].tolist()\n",
    "\n",
    "train_input_valid = train_input.iloc[valid_index,:]\n",
    "train_input_defect = train_input.iloc[defect_index,:]\n",
    "\n",
    "training_index = np.random.choice(len(valid_index)-1, size=int(0.8*len(valid_index)), replace=False) # 80% training / 20% testing\n",
    "testing_index = []\n",
    "for i in range(len(valid_index)):\n",
    "    if i not in training_index:\n",
    "        testing_index.append(i)\n",
    "X_train = train_input_valid.iloc[training_index,:]\n",
    "X_test = train_input_valid.iloc[testing_index,:]\n"
   ]
  },
  {
   "cell_type": "code",
   "execution_count": 5,
   "metadata": {},
   "outputs": [],
   "source": [
    "clf = svm.OneClassSVM(nu=0.1, kernel=\"rbf\", gamma=0.1) # nu: corresponds to the probability of finding a new, but regular, observation outside the frontier\n",
    "\n",
    "clf.fit(X_train)\n",
    "\n",
    "y_pred_train = clf.predict(X_train)\n",
    "y_pred_test = clf.predict(X_test)\n",
    "y_pred_defect = clf.predict(train_input_defect)\n",
    "\n",
    "n_error_train = y_pred_train[y_pred_train == -1].size\n",
    "n_error_test = y_pred_test[y_pred_test == -1].size\n",
    "n_error_outliers = y_pred_defect[y_pred_defect == 1].size"
   ]
  },
  {
   "cell_type": "code",
   "execution_count": 6,
   "metadata": {},
   "outputs": [
    {
     "data": {
      "text/plain": [
       "11634"
      ]
     },
     "execution_count": 6,
     "metadata": {},
     "output_type": "execute_result"
    }
   ],
   "source": [
    "n_error_train"
   ]
  },
  {
   "cell_type": "code",
   "execution_count": 7,
   "metadata": {},
   "outputs": [
    {
     "data": {
      "text/plain": [
       "6717"
      ]
     },
     "execution_count": 7,
     "metadata": {},
     "output_type": "execute_result"
    }
   ],
   "source": [
    "n_error_test"
   ]
  },
  {
   "cell_type": "code",
   "execution_count": 8,
   "metadata": {},
   "outputs": [
    {
     "data": {
      "text/plain": [
       "10"
      ]
     },
     "execution_count": 8,
     "metadata": {},
     "output_type": "execute_result"
    }
   ],
   "source": [
    "n_error_outliers"
   ]
  }
 ],
 "metadata": {
  "kernelspec": {
   "display_name": "base",
   "language": "python",
   "name": "python3"
  },
  "language_info": {
   "codemirror_mode": {
    "name": "ipython",
    "version": 3
   },
   "file_extension": ".py",
   "mimetype": "text/x-python",
   "name": "python",
   "nbconvert_exporter": "python",
   "pygments_lexer": "ipython3",
   "version": "3.9.12 (main, Apr  5 2022, 06:56:58) \n[GCC 7.5.0]"
  },
  "orig_nbformat": 4,
  "vscode": {
   "interpreter": {
    "hash": "60e99164659eb01783c8f561e8a597a048720cf8240e4ce5ecfbb52f98d8d756"
   }
  }
 },
 "nbformat": 4,
 "nbformat_minor": 2
}
