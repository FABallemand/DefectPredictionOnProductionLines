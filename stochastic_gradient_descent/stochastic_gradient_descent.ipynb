{
 "cells": [
  {
   "attachments": {},
   "cell_type": "markdown",
   "metadata": {},
   "source": [
    "# Stochastic Gradient Descent"
   ]
  },
  {
   "attachments": {},
   "cell_type": "markdown",
   "metadata": {},
   "source": [
    "\n",
    "**Advantages:**\n",
    "- Capable of handling very large datasets"
   ]
  },
  {
   "attachments": {},
   "cell_type": "markdown",
   "metadata": {},
   "source": [
    "## Imports"
   ]
  },
  {
   "cell_type": "code",
   "execution_count": 1,
   "metadata": {},
   "outputs": [],
   "source": [
    "import pandas as pd\n",
    "import random as rd\n",
    "from sklearn.model_selection import train_test_split, cross_val_score, cross_val_predict\n",
    "from sklearn.linear_model import SGDClassifier\n",
    "from sklearn import metrics\n",
    "from sklearn.metrics import confusion_matrix, plot_confusion_matrix, precision_score, recall_score, f1_score, precision_recall_curve, roc_curve, roc_auc_score\n",
    "import matplotlib.pyplot as plt"
   ]
  },
  {
   "attachments": {},
   "cell_type": "markdown",
   "metadata": {},
   "source": [
    "## Loading Dataset"
   ]
  },
  {
   "cell_type": "code",
   "execution_count": 2,
   "metadata": {},
   "outputs": [
    {
     "ename": "NameError",
     "evalue": "name 'train_input_' is not defined",
     "output_type": "error",
     "traceback": [
      "\u001b[0;31m---------------------------------------------------------------------------\u001b[0m",
      "\u001b[0;31mNameError\u001b[0m                                 Traceback (most recent call last)",
      "\u001b[1;32m/home/fabien/TPS/2A/Apprentissage Automatique/DefectPredictionOnProductionLines/stochastic_gradient_descent/stochastic_gradient_descent.ipynb Cell 6\u001b[0m in \u001b[0;36m<cell line: 22>\u001b[0;34m()\u001b[0m\n\u001b[1;32m     <a href='vscode-notebook-cell:/home/fabien/TPS/2A/Apprentissage%20Automatique/DefectPredictionOnProductionLines/stochastic_gradient_descent/stochastic_gradient_descent.ipynb#W5sZmlsZQ%3D%3D?line=18'>19</a>\u001b[0m train_output \u001b[39m=\u001b[39m pd\u001b[39m.\u001b[39mread_csv(\u001b[39m\"\u001b[39m\u001b[39m../data/train_output.csv\u001b[39m\u001b[39m\"\u001b[39m, header\u001b[39m=\u001b[39m\u001b[39m0\u001b[39m)\u001b[39m.\u001b[39mrename(columns\u001b[39m=\u001b[39moutput_header)\n\u001b[1;32m     <a href='vscode-notebook-cell:/home/fabien/TPS/2A/Apprentissage%20Automatique/DefectPredictionOnProductionLines/stochastic_gradient_descent/stochastic_gradient_descent.ipynb#W5sZmlsZQ%3D%3D?line=20'>21</a>\u001b[0m train_input \u001b[39m=\u001b[39m train_input[train_input\u001b[39m.\u001b[39mcolumns[\u001b[39m~\u001b[39mtrain_input\u001b[39m.\u001b[39mcolumns\u001b[39m.\u001b[39misin([\u001b[39m\"\u001b[39m\u001b[39mid\u001b[39m\u001b[39m\"\u001b[39m, \u001b[39m\"\u001b[39m\u001b[39mcapuchon_insertion\u001b[39m\u001b[39m\"\u001b[39m])]]\n\u001b[0;32m---> <a href='vscode-notebook-cell:/home/fabien/TPS/2A/Apprentissage%20Automatique/DefectPredictionOnProductionLines/stochastic_gradient_descent/stochastic_gradient_descent.ipynb#W5sZmlsZQ%3D%3D?line=21'>22</a>\u001b[0m X_train, X_test, y_train, y_test \u001b[39m=\u001b[39m train_test_split(train_input_, train_output[\u001b[39m\"\u001b[39m\u001b[39mresult\u001b[39m\u001b[39m\"\u001b[39m], test_size \u001b[39m=\u001b[39m \u001b[39m0.3\u001b[39m, random_state \u001b[39m=\u001b[39m \u001b[39m123\u001b[39m)\n",
      "\u001b[0;31mNameError\u001b[0m: name 'train_input_' is not defined"
     ]
    }
   ],
   "source": [
    "input_header = {\"PROC_TRACEINFO\" : \"id\",\n",
    "                \"OP070_V_1_angle_value\": \"angle_1\",\n",
    "                \"OP090_SnapRingPeakForce_value\" : \"snap_ring_peak_force\",\n",
    "                \"OP070_V_2_angle_value\" : \"angle_2\",\n",
    "                \"OP120_Rodage_I_mesure_value\" : \"rodage_i\",\n",
    "                \"OP090_SnapRingFinalStroke_value\" : \"snap_ring_final_stroke\",\n",
    "                \"OP110_Vissage_M8_torque_value\" : \"vissage_m8_torque\",\n",
    "                \"OP100_Capuchon_insertion_mesure\" : \"capuchon_insertion\",\n",
    "                \"OP120_Rodage_U_mesure_value\" : \"rodage_u\",\n",
    "                \"OP070_V_1_torque_value\" : \"torque_1\",\n",
    "                \"OP090_StartLinePeakForce_value\" : \"start_line_peak_force\",\n",
    "                \"OP110_Vissage_M8_angle_value\" : \"vissage_m8_angle\",\n",
    "                \"OP090_SnapRingMidPointForce_val\" : \"snap_ring_midpoint_force\",\n",
    "                \"OP070_V_2_torque_value\" : \"torque_2\"}\n",
    "output_header = {\"PROC_TRACEINFO\" : \"id\",\n",
    "                 \"Binar OP130_Resultat_Global_v\" : \"result\"}\n",
    "\n",
    "train_input = pd.read_csv(\"../data/train_inputs.csv\", header=0).rename(columns=input_header)\n",
    "train_output = pd.read_csv(\"../data/train_output.csv\", header=0).rename(columns=output_header)\n",
    "\n",
    "train_input = train_input[train_input.columns[~train_input.columns.isin([\"id\", \"capuchon_insertion\"])]]\n",
    "X_train, X_test, y_train, y_test = train_test_split(train_input_, train_output[\"result\"], test_size = 0.3, random_state = 123)"
   ]
  },
  {
   "attachments": {},
   "cell_type": "markdown",
   "metadata": {},
   "source": [
    "## Base Line"
   ]
  },
  {
   "cell_type": "code",
   "execution_count": null,
   "metadata": {},
   "outputs": [
    {
     "data": {
      "text/plain": [
       "0.9911154031868662"
      ]
     },
     "execution_count": 42,
     "metadata": {},
     "output_type": "execute_result"
    }
   ],
   "source": [
    "# Create model\n",
    "sgd_clf = SGDClassifier(random_state=42)\n",
    "sgd_clf.fit(X_train, y_train)\n",
    "\n",
    "# Prediciton\n",
    "y_pred = sgd_clf.predict(X_test)\n",
    "\n",
    "# Evaluation\n",
    "metrics.accuracy_score(y_test, y_pred)"
   ]
  },
  {
   "cell_type": "code",
   "execution_count": null,
   "metadata": {},
   "outputs": [
    {
     "name": "stderr",
     "output_type": "stream",
     "text": [
      "/home/fabien/anaconda3/lib/python3.9/site-packages/sklearn/utils/deprecation.py:87: FutureWarning: Function plot_confusion_matrix is deprecated; Function `plot_confusion_matrix` is deprecated in 1.0 and will be removed in 1.2. Use one of the class methods: ConfusionMatrixDisplay.from_predictions or ConfusionMatrixDisplay.from_estimator.\n",
      "  warnings.warn(msg, category=FutureWarning)\n"
     ]
    },
    {
     "data": {
      "image/png": "[encoded data removed]",
      "text/plain": [
       "<Figure size 432x288 with 2 Axes>"
      ]
     },
     "metadata": {
      "needs_background": "light"
     },
     "output_type": "display_data"
    }
   ],
   "source": [
    "# Compute confusion matrix\n",
    "M = confusion_matrix(y_test, y_pred)\n",
    "# tn, fp, fn, tp = M.ravel() # True/False negative/positive\n",
    "\n",
    "# Plot confusion matrix\n",
    "plot_confusion_matrix(sgd_clf, X_test, y_test)\n",
    "plt.show()"
   ]
  },
  {
   "attachments": {},
   "cell_type": "markdown",
   "metadata": {},
   "source": [
    "As always, it is overfitting the data because defective individuals are under represented in population..."
   ]
  },
  {
   "attachments": {},
   "cell_type": "markdown",
   "metadata": {},
   "source": [
    "## Balanced Classes"
   ]
  },
  {
   "attachments": {},
   "cell_type": "markdown",
   "metadata": {},
   "source": [
    "Some randomly selected individuals from the valid class (the one which is over represented in the dataset) are removed."
   ]
  },
  {
   "cell_type": "code",
   "execution_count": null,
   "metadata": {},
   "outputs": [
    {
     "data": {
      "text/plain": [
       "0.5136612021857924"
      ]
     },
     "execution_count": 44,
     "metadata": {},
     "output_type": "execute_result"
    }
   ],
   "source": [
    "# Copy dataset\n",
    "train_input_remove = train_input.copy()\n",
    "train_output_remove = train_output.copy()\n",
    "\n",
    "# Select index\n",
    "defect_index = train_output.index[train_output[\"result\"] == 1].tolist()\n",
    "valid_index = train_output.index[train_output[\"result\"] == 0].tolist()\n",
    "\n",
    "# Randomly remove some valid individuals\n",
    "rd.shuffle(valid_index) # Shuffle in order to eliminate \"production correlation\"\n",
    "train_input_remove = train_input_remove.iloc[valid_index[:len(defect_index)] + defect_index,:]\n",
    "train_output_remove = train_output_remove.iloc[valid_index[:len(defect_index)] + defect_index,:]\n",
    "\n",
    "# Create new datasets\n",
    "train_input_remove = train_input_remove[train_input_remove.columns[~train_input_remove.columns.isin([\"id\", \"capuchon_insertion\"])]]\n",
    "X_train, X_test, y_train, y_test = train_test_split(train_input_remove, train_output_remove[\"result\"], test_size = 0.3, random_state = 123)\n",
    "\n",
    "# Create model\n",
    "sgd_balanced_clf = SGDClassifier(random_state=42)\n",
    "sgd_balanced_clf.fit(X_train, y_train)\n",
    "\n",
    "# Prediciton\n",
    "y_pred = sgd_balanced_clf.predict(X_test)\n",
    "\n",
    "# Evaluation\n",
    "metrics.accuracy_score(y_test, y_pred)"
   ]
  },
  {
   "cell_type": "code",
   "execution_count": null,
   "metadata": {},
   "outputs": [
    {
     "name": "stderr",
     "output_type": "stream",
     "text": [
      "/home/fabien/anaconda3/lib/python3.9/site-packages/sklearn/utils/deprecation.py:87: FutureWarning: Function plot_confusion_matrix is deprecated; Function `plot_confusion_matrix` is deprecated in 1.0 and will be removed in 1.2. Use one of the class methods: ConfusionMatrixDisplay.from_predictions or ConfusionMatrixDisplay.from_estimator.\n",
      "  warnings.warn(msg, category=FutureWarning)\n"
     ]
    },
    {
     "data": {
      "image/png": "[encoded data removed]",
      "text/plain": [
       "<Figure size 432x288 with 2 Axes>"
      ]
     },
     "metadata": {
      "needs_background": "light"
     },
     "output_type": "display_data"
    }
   ],
   "source": [
    "# Plot confusion matrix\n",
    "plot_confusion_matrix(sgd_balanced_clf, X_test, y_test)\n",
    "plt.show()"
   ]
  },
  {
   "attachments": {},
   "cell_type": "markdown",
   "metadata": {},
   "source": [
    "The overall performance of the classifier decreased but it is now actually trying to class individuals!"
   ]
  },
  {
   "attachments": {},
   "cell_type": "markdown",
   "metadata": {},
   "source": [
    "## Evaluation"
   ]
  },
  {
   "attachments": {},
   "cell_type": "markdown",
   "metadata": {},
   "source": [
    "### Cross Validation"
   ]
  },
  {
   "cell_type": "code",
   "execution_count": null,
   "metadata": {},
   "outputs": [
    {
     "data": {
      "text/plain": [
       "array([0.5034965 , 0.49295775, 0.48591549])"
      ]
     },
     "execution_count": 64,
     "metadata": {},
     "output_type": "execute_result"
    }
   ],
   "source": [
    "# Copy dataset\n",
    "train_input_remove = train_input.copy()\n",
    "train_output_remove = train_output.copy()\n",
    "\n",
    "# Select index\n",
    "defect_index = train_output.index[train_output[\"result\"] == 1].tolist()\n",
    "valid_index = train_output.index[train_output[\"result\"] == 0].tolist()\n",
    "\n",
    "# Randomly remove some valid individuals\n",
    "rd.shuffle(valid_index) # Shuffle in order to eliminate \"production correlation\"\n",
    "train_input_remove = train_input_remove.iloc[valid_index[:len(defect_index)] + defect_index,:]\n",
    "train_output_remove = train_output_remove.iloc[valid_index[:len(defect_index)] + defect_index,:]\n",
    "\n",
    "# Create new datasets\n",
    "train_input_remove = train_input_remove[train_input_remove.columns[~train_input_remove.columns.isin([\"id\", \"capuchon_insertion\"])]]\n",
    "X_train, X_test, y_train, y_test = train_test_split(train_input_remove, train_output_remove[\"result\"], test_size = 0.3, random_state = 123)\n",
    "\n",
    "# Create model\n",
    "sgd_clf = SGDClassifier(random_state=42)\n",
    "sgd_clf.fit(X_train, y_train)\n",
    "\n",
    "# Prediction\n",
    "y_pred = cross_val_predict(sgd_clf, X_train, y_train, cv=3)\n",
    "\n",
    "# Evaluation\n",
    "cross_val_score(sgd_clf, X_train, y_train, cv=3, scoring=\"accuracy\")"
   ]
  },
  {
   "attachments": {},
   "cell_type": "markdown",
   "metadata": {},
   "source": [
    "### Confusion Matrix"
   ]
  },
  {
   "cell_type": "code",
   "execution_count": null,
   "metadata": {},
   "outputs": [
    {
     "name": "stderr",
     "output_type": "stream",
     "text": [
      "/home/fabien/anaconda3/lib/python3.9/site-packages/sklearn/utils/deprecation.py:87: FutureWarning: Function plot_confusion_matrix is deprecated; Function `plot_confusion_matrix` is deprecated in 1.0 and will be removed in 1.2. Use one of the class methods: ConfusionMatrixDisplay.from_predictions or ConfusionMatrixDisplay.from_estimator.\n",
      "  warnings.warn(msg, category=FutureWarning)\n"
     ]
    },
    {
     "data": {
      "image/png": "[encoded data removed]",
      "text/plain": [
       "<Figure size 432x288 with 2 Axes>"
      ]
     },
     "metadata": {
      "needs_background": "light"
     },
     "output_type": "display_data"
    }
   ],
   "source": [
    "# Plot confusion matrix\n",
    "plot_confusion_matrix(sgd_clf, X_test, y_test)\n",
    "plt.show()"
   ]
  },
  {
   "attachments": {},
   "cell_type": "markdown",
   "metadata": {},
   "source": [
    "### Precision and Recall"
   ]
  },
  {
   "cell_type": "code",
   "execution_count": null,
   "metadata": {},
   "outputs": [
    {
     "name": "stdout",
     "output_type": "stream",
     "text": [
      "Precision = 0.49375 \n",
      "Recall = 0.7383177570093458 \n",
      "F1 = 0.5917602996254682\n"
     ]
    }
   ],
   "source": [
    "# Using confusion matrix\n",
    "M = confusion_matrix(y_train, y_pred)\n",
    "tn, fp, fn, tp = M.ravel() # True/False negative/positive\n",
    "precision = tp / (tp + fp)\n",
    "recall = tp / (tp + fn)\n",
    "f1 = 2 / ((1/precision) + (1/recall))\n",
    "\n",
    "# Using sklearn functions\n",
    "precision = precision_score(y_train, y_pred)\n",
    "recall_score(y_train, y_pred)\n",
    "f1_score(y_train, y_pred)\n",
    "\n",
    "print(\"Precision =\", precision, \"\\nRecall =\", recall, \"\\nF1 =\", f1)"
   ]
  },
  {
   "attachments": {},
   "cell_type": "markdown",
   "metadata": {},
   "source": [
    "- Precision: When the classifier claims the individual is defective, it is correct *precision*% of the time\n",
    "- Recall: The classifier detects *recall*% of the defective individuals\n",
    "\n",
    "- F1 score: harmonic mean of precision and recall. Gets higher if **both** recall and precision are high. Not always the best score as in some application precision is more important than recall or vice versa."
   ]
  },
  {
   "cell_type": "code",
   "execution_count": null,
   "metadata": {},
   "outputs": [
    {
     "data": {
      "image/png": "[encoded data removed]",
      "text/plain": [
       "<Figure size 432x288 with 1 Axes>"
      ]
     },
     "metadata": {
      "needs_background": "light"
     },
     "output_type": "display_data"
    }
   ],
   "source": [
    "def plotPrecisionRecallVsThreshold(precisions, recalls, thresholds):\n",
    "    plt.plot(thresholds, precisions[:-1], \"b--\", label=\"Precision\")\n",
    "    plt.plot(thresholds, recalls[:-1], \"g-\", label=\"Recall\")\n",
    "    plt.xlabel(\"Threshold\")\n",
    "    plt.legend(\"center left\")\n",
    "    plt.ylim([0, 1])\n",
    "\n",
    "y_scores = cross_val_predict(sgd_clf, X_train, y_train, cv=3, method=\"decision_function\")\n",
    "\n",
    "precisions, recalls, thresholds = precision_recall_curve(y_train, y_scores)\n",
    "\n",
    "plotPrecisionRecallVsThreshold(precisions, recalls, thresholds)\n",
    "plt.show()"
   ]
  },
  {
   "attachments": {},
   "cell_type": "markdown",
   "metadata": {},
   "source": [
    "Choose the threshold value that gives the best precision/recall tradeoff for the classification."
   ]
  },
  {
   "cell_type": "code",
   "execution_count": null,
   "metadata": {},
   "outputs": [
    {
     "data": {
      "image/png": "[encoded data removed]",
      "text/plain": [
       "<Figure size 432x288 with 1 Axes>"
      ]
     },
     "metadata": {
      "needs_background": "light"
     },
     "output_type": "display_data"
    }
   ],
   "source": [
    "plt.plot(recalls, precisions)\n",
    "plt.xlabel(\"Recall\")\n",
    "plt.ylabel(\"Precision\")\n",
    "plt.show()"
   ]
  },
  {
   "attachments": {},
   "cell_type": "markdown",
   "metadata": {},
   "source": [
    "### ROC Curve"
   ]
  },
  {
   "cell_type": "code",
   "execution_count": null,
   "metadata": {},
   "outputs": [
    {
     "data": {
      "image/png": "[encoded data removed]",
      "text/plain": [
       "<Figure size 432x288 with 1 Axes>"
      ]
     },
     "metadata": {
      "needs_background": "light"
     },
     "output_type": "display_data"
    }
   ],
   "source": [
    "def plotROC(fpr, tpr):\n",
    "    plt.plot(fpr, tpr, linewidth=2)\n",
    "    plt.plot([0, 1], [0, 1], \"k--\")\n",
    "    plt.axis([0, 1, 0, 1])\n",
    "    plt.xlabel(\"False Positive Rate\")\n",
    "    plt.ylabel(\"True Positive Rate\")\n",
    "\n",
    "fpr, tpr, thresholds = roc_curve(y_train, y_scores)\n",
    "\n",
    "plotROC(fpr, tpr)\n",
    "plt.show()"
   ]
  },
  {
   "cell_type": "code",
   "execution_count": null,
   "metadata": {},
   "outputs": [
    {
     "data": {
      "text/plain": [
       "0.5432407529287877"
      ]
     },
     "execution_count": 73,
     "metadata": {},
     "output_type": "execute_result"
    }
   ],
   "source": [
    "roc_auc_score(y_train, y_scores)"
   ]
  },
  {
   "attachments": {},
   "cell_type": "markdown",
   "metadata": {},
   "source": [
    "ROC AUC Score (1: perfect classifier | 0: random classifier)"
   ]
  }
 ],
 "metadata": {
  "kernelspec": {
   "display_name": "base",
   "language": "python",
   "name": "python3"
  },
  "language_info": {
   "codemirror_mode": {
    "name": "ipython",
    "version": 3
   },
   "file_extension": ".py",
   "mimetype": "text/x-python",
   "name": "python",
   "nbconvert_exporter": "python",
   "pygments_lexer": "ipython3",
   "version": "3.9.12"
  },
  "orig_nbformat": 4,
  "vscode": {
   "interpreter": {
    "hash": "60e99164659eb01783c8f561e8a597a048720cf8240e4ce5ecfbb52f98d8d756"
   }
  }
 },
 "nbformat": 4,
 "nbformat_minor": 2
}
