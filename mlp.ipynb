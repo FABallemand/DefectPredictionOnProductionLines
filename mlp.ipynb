{
 "cells": [
  {
   "attachments": {},
   "cell_type": "markdown",
   "metadata": {},
   "source": [
    "# Multilayer Perceptron"
   ]
  },
  {
   "cell_type": "code",
   "execution_count": 18,
   "metadata": {},
   "outputs": [],
   "source": [
    "import numpy as np\n",
    "import random as rd\n",
    "import pandas as pd\n",
    "from sklearn.preprocessing import StandardScaler\n",
    "from sklearn.neural_network import MLPClassifier\n",
    "from sklearn.model_selection import train_test_split, cross_val_score, cross_val_predict\n",
    "from sklearn import metrics\n",
    "from sklearn.metrics import confusion_matrix, plot_confusion_matrix, precision_score, recall_score, f1_score, precision_recall_curve, roc_curve, roc_auc_score\n",
    "import matplotlib.pyplot as plt\n",
    "from scipy import stats"
   ]
  },
  {
   "attachments": {},
   "cell_type": "markdown",
   "metadata": {},
   "source": [
    "## Loading Dataset"
   ]
  },
  {
   "cell_type": "code",
   "execution_count": 19,
   "metadata": {},
   "outputs": [],
   "source": [
    "input_header = {\"PROC_TRACEINFO\" : \"id\",\n",
    "                \"OP070_V_1_angle_value\": \"angle_1\",\n",
    "                \"OP090_SnapRingPeakForce_value\" : \"snap_ring_peak_force\",\n",
    "                \"OP070_V_2_angle_value\" : \"angle_2\",\n",
    "                \"OP120_Rodage_I_mesure_value\" : \"rodage_i\",\n",
    "                \"OP090_SnapRingFinalStroke_value\" : \"snap_ring_final_stroke\",\n",
    "                \"OP110_Vissage_M8_torque_value\" : \"vissage_m8_torque\",\n",
    "                \"OP100_Capuchon_insertion_mesure\" : \"capuchon_insertion\",\n",
    "                \"OP120_Rodage_U_mesure_value\" : \"rodage_u\",\n",
    "                \"OP070_V_1_torque_value\" : \"torque_1\",\n",
    "                \"OP090_StartLinePeakForce_value\" : \"start_line_peak_force\",\n",
    "                \"OP110_Vissage_M8_angle_value\" : \"vissage_m8_angle\",\n",
    "                \"OP090_SnapRingMidPointForce_val\" : \"snap_ring_midpoint_force\",\n",
    "                \"OP070_V_2_torque_value\" : \"torque_2\"}\n",
    "output_header = {\"PROC_TRACEINFO\" : \"id\",\n",
    "                 \"Binar OP130_Resultat_Global_v\" : \"result\"}\n",
    "\n",
    "train_input = pd.read_csv(\"./data/train_inputs.csv\", header=0).rename(columns=input_header)\n",
    "train_output = pd.read_csv(\"./data/train_output.csv\", header=0).rename(columns=output_header)\n",
    "\n",
    "train_input_ = train_input[train_input.columns[~train_input.columns.isin([\"id\", \"capuchon_insertion\"])]]\n",
    "X_train, X_test, y_train, y_test = train_test_split(train_input_, train_output[\"result\"], test_size = 0.3, random_state = 123)\n",
    "\n",
    "# Scale data (MLP is very sensitive to scaling)\n",
    "scaler = StandardScaler()\n",
    "scaler.fit(X_train)\n",
    "X_train = scaler.transform(X_train)\n",
    "X_test = scaler.transform(X_test)"
   ]
  },
  {
   "attachments": {},
   "cell_type": "markdown",
   "metadata": {},
   "source": [
    "## MLP"
   ]
  },
  {
   "cell_type": "code",
   "execution_count": 20,
   "metadata": {},
   "outputs": [
    {
     "data": {
      "text/plain": [
       "0.9911154031868662"
      ]
     },
     "execution_count": 20,
     "metadata": {},
     "output_type": "execute_result"
    }
   ],
   "source": [
    "# Create model\n",
    "mlp_model = MLPClassifier(solver='lbfgs', alpha=1e-5, hidden_layer_sizes=(5, 2), random_state=1, max_iter=400)\n",
    "mlp_model.fit(X_train, y_train)\n",
    "\n",
    "# Prediction\n",
    "y_pred = mlp_model.predict(X_test)\n",
    "\n",
    "# Evaluation\n",
    "metrics.accuracy_score(y_test, y_pred)"
   ]
  },
  {
   "cell_type": "code",
   "execution_count": 21,
   "metadata": {},
   "outputs": [
    {
     "name": "stderr",
     "output_type": "stream",
     "text": [
      "c:\\Users\\arthu\\AppData\\Local\\Programs\\Python\\Python310\\lib\\site-packages\\sklearn\\utils\\deprecation.py:87: FutureWarning: Function plot_confusion_matrix is deprecated; Function `plot_confusion_matrix` is deprecated in 1.0 and will be removed in 1.2. Use one of the class methods: ConfusionMatrixDisplay.from_predictions or ConfusionMatrixDisplay.from_estimator.\n",
      "  warnings.warn(msg, category=FutureWarning)\n"
     ]
    },
    {
     "data": {
      "image/png": "[encoded data removed]",
      "text/plain": [
       "<Figure size 432x288 with 2 Axes>"
      ]
     },
     "metadata": {
      "needs_background": "light"
     },
     "output_type": "display_data"
    }
   ],
   "source": [
    "# Compute confusion matrix\n",
    "M = confusion_matrix(y_test, y_pred)\n",
    "# tn, fp, fn, tp = M.ravel() # True/False negative/positive\n",
    "\n",
    "# Plot confusion matrix\n",
    "plot_confusion_matrix(mlp_model, X_test, y_test)\n",
    "plt.show()"
   ]
  },
  {
   "attachments": {},
   "cell_type": "markdown",
   "metadata": {},
   "source": [
    "Once again: overfitting due to unbalanced classes !"
   ]
  },
  {
   "attachments": {},
   "cell_type": "markdown",
   "metadata": {},
   "source": [
    "## MLP with Balanced Classes"
   ]
  },
  {
   "attachments": {},
   "cell_type": "markdown",
   "metadata": {},
   "source": [
    "### Remove Individuals"
   ]
  },
  {
   "cell_type": "code",
   "execution_count": 26,
   "metadata": {},
   "outputs": [
    {
     "data": {
      "text/plain": [
       "0.6666666666666666"
      ]
     },
     "execution_count": 26,
     "metadata": {},
     "output_type": "execute_result"
    }
   ],
   "source": [
    "# Copy dataset\n",
    "train_input_remove = train_input.copy()\n",
    "train_output_remove = train_output.copy()\n",
    "\n",
    "# Select index\n",
    "defect_index = train_output.index[train_output[\"result\"] == 1].tolist()\n",
    "valid_index = train_output.index[train_output[\"result\"] == 0].tolist()\n",
    "\n",
    "# Randomly remove some valid individuals\n",
    "rd.shuffle(valid_index) # Shuffle in order to eliminate \"production correlation\"\n",
    "train_input_remove = train_input_remove.iloc[valid_index[:len(defect_index)] + defect_index,:]\n",
    "train_output_remove = train_output_remove.iloc[valid_index[:len(defect_index)] + defect_index,:]\n",
    "\n",
    "# Create new datasets\n",
    "train_input_remove = train_input_remove[train_input_remove.columns[~train_input_remove.columns.isin([\"id\", \"capuchon_insertion\"])]]\n",
    "X_train, X_test, y_train, y_test = train_test_split(train_input_remove, train_output_remove[\"result\"], test_size = 0.3, random_state = 123)\n",
    "\n",
    "# Scale data (MLP is very sensitive to scaling)\n",
    "scaler = StandardScaler()\n",
    "scaler.fit(X_train)\n",
    "X_train = scaler.transform(X_train)\n",
    "X_test = scaler.transform(X_test)\n",
    "\n",
    "# Create model\n",
    "mlp_balanced_model = MLPClassifier(\n",
    "    solver='sgd',\n",
    "    activation='tanh', \n",
    "    alpha=1e-2,\n",
    "    batch_size=32,\n",
    "    learning_rate='adaptive', \n",
    "    hidden_layer_sizes=(200,150,100,50), \n",
    "    random_state=1, \n",
    "    n_iter_no_change =12,\n",
    "    early_stopping=True,\n",
    "    max_iter=2000,\n",
    "    verbose = False)\n",
    "\n",
    "mlp_balanced_model.fit(X_train, y_train)\n",
    "\n",
    "# Prediction\n",
    "y_pred = mlp_balanced_model.predict(X_test)\n",
    "\n",
    "# Evaluation\n",
    "# cross_val_score(mlp_balanced_model, X_test, y_test, cv=5, scoring=\"accuracy\")\n",
    "metrics.accuracy_score(y_test, y_pred)"
   ]
  },
  {
   "cell_type": "code",
   "execution_count": 27,
   "metadata": {},
   "outputs": [
    {
     "name": "stderr",
     "output_type": "stream",
     "text": [
      "c:\\Users\\arthu\\AppData\\Local\\Programs\\Python\\Python310\\lib\\site-packages\\sklearn\\utils\\deprecation.py:87: FutureWarning: Function plot_confusion_matrix is deprecated; Function `plot_confusion_matrix` is deprecated in 1.0 and will be removed in 1.2. Use one of the class methods: ConfusionMatrixDisplay.from_predictions or ConfusionMatrixDisplay.from_estimator.\n",
      "  warnings.warn(msg, category=FutureWarning)\n"
     ]
    },
    {
     "data": {
      "image/png": "[encoded data removed]",
      "text/plain": [
       "<Figure size 432x288 with 2 Axes>"
      ]
     },
     "metadata": {
      "needs_background": "light"
     },
     "output_type": "display_data"
    }
   ],
   "source": [
    "# Compute confusion matrix\n",
    "M = confusion_matrix(y_test, y_pred)\n",
    "# tn, fp, fn, tp = M.ravel() # True/False negative/positive\n",
    "\n",
    "# Plot confusion matrix\n",
    "plot_confusion_matrix(mlp_balanced_model, X_test, y_test)\n",
    "plt.show()"
   ]
  },
  {
   "cell_type": "code",
   "execution_count": 29,
   "metadata": {},
   "outputs": [
    {
     "data": {
      "image/png": "[encoded data removed]",
      "text/plain": [
       "<Figure size 345.6x288 with 1 Axes>"
      ]
     },
     "metadata": {
      "needs_background": "light"
     },
     "output_type": "display_data"
    }
   ],
   "source": [
    "def plotROC(fpr, tpr):\n",
    "    plt.plot(fpr, tpr, linewidth=2)\n",
    "    plt.plot([0, 1], [0, 1], \"k--\")\n",
    "    plt.axis([0, 1, 0, 1])\n",
    "    plt.xlabel(\"False Positive Rate\")\n",
    "    plt.ylabel(\"True Positive Rate\")\n",
    "\n",
    "y_scores = cross_val_predict(mlp_balanced_model, X_test, y_test,  cv=5)\n",
    "fpr, tpr, thresholds = roc_curve(y_test, y_scores)\n",
    "\n",
    "plt.figure().set_figwidth(4.8)\n",
    "plotROC(fpr, tpr)\n",
    "plt.show()"
   ]
  },
  {
   "attachments": {},
   "cell_type": "markdown",
   "metadata": {},
   "source": [
    "More realistic..."
   ]
  },
  {
   "attachments": {},
   "cell_type": "markdown",
   "metadata": {},
   "source": [
    "## MLP without Outliers"
   ]
  },
  {
   "cell_type": "code",
   "execution_count": 37,
   "metadata": {},
   "outputs": [
    {
     "data": {
      "text/plain": [
       "0.536723163841808"
      ]
     },
     "execution_count": 37,
     "metadata": {},
     "output_type": "execute_result"
    }
   ],
   "source": [
    "# Copy dataset\n",
    "train_input_remove = train_input.copy()\n",
    "train_output_remove = train_output.copy()\n",
    "\n",
    "# Scale data (MLP is very sensitive to scaling and allow for a unique treshold)\n",
    "scaler = StandardScaler()\n",
    "scaler.fit(X_train)\n",
    "X_train = scaler.transform(X_train)\n",
    "X_test = scaler.transform(X_test)\n",
    "\n",
    "# Remove outliers\n",
    "threshold = 3\n",
    "outliers = np.array([], dtype = int)\n",
    "for col_name in list(input_header.values())[1:]:\n",
    "    z = np.abs(stats.zscore(train_input[col_name]))\n",
    "    outliers = np.append(outliers, np.where(z > threshold))\n",
    "outliers_no_duplicate = np.array([], dtype=int)\n",
    "for i in range(np.size(outliers)):\n",
    "    if(outliers[i] not in outliers_no_duplicate):\n",
    "        outliers_no_duplicate = np.append(outliers_no_duplicate, outliers[i])\n",
    "# np.size(outliers_no_duplicate)\n",
    "\n",
    "# Select index\n",
    "defect_index = train_output.index[train_output[\"result\"] == 1].tolist()\n",
    "for elmt in defect_index:\n",
    "    if elmt in outliers_no_duplicate:\n",
    "        defect_index.remove(elmt)\n",
    "valid_index = train_output.index[train_output[\"result\"] == 0].tolist()\n",
    "for elmt in valid_index:\n",
    "    if elmt in outliers_no_duplicate:\n",
    "        valid_index.remove(elmt)\n",
    "\n",
    "# Randomly remove some valid individuals\n",
    "rd.shuffle(valid_index) # Shuffle in order to eliminate \"production correlation\"\n",
    "train_input_remove = train_input_remove.iloc[valid_index[:len(defect_index)] + defect_index,:]\n",
    "train_output_remove = train_output_remove.iloc[valid_index[:len(defect_index)] + defect_index,:]\n",
    "\n",
    "# Create new datasets\n",
    "train_input_remove = train_input_remove[train_input_remove.columns[~train_input_remove.columns.isin([\"id\", \"capuchon_insertion\"])]]\n",
    "X_train, X_test, y_train, y_test = train_test_split(train_input_remove, train_output_remove[\"result\"], test_size = 0.3, random_state = 123)\n",
    "\n",
    "\n",
    "# Create model\n",
    "mlp_balanced_model = MLPClassifier(\n",
    "    solver='sgd',\n",
    "    activation='tanh', \n",
    "    alpha=1e-2,\n",
    "    batch_size=32,\n",
    "    learning_rate='adaptive', \n",
    "    hidden_layer_sizes=(200,150,100,50), \n",
    "    random_state=1, \n",
    "    n_iter_no_change =12,\n",
    "    early_stopping=True,\n",
    "    max_iter=2000,\n",
    "    verbose = False)\n",
    "mlp_balanced_model.fit(X_train.values, y_train.values)\n",
    "\n",
    "# Prediction\n",
    "y_pred = mlp_balanced_model.predict(X_test.values)\n",
    "\n",
    "# Evaluation\n",
    "metrics.accuracy_score(y_test, y_pred)"
   ]
  }
 ],
 "metadata": {
  "kernelspec": {
   "display_name": "Python 3",
   "language": "python",
   "name": "python3"
  },
  "language_info": {
   "codemirror_mode": {
    "name": "ipython",
    "version": 3
   },
   "file_extension": ".py",
   "mimetype": "text/x-python",
   "name": "python",
   "nbconvert_exporter": "python",
   "pygments_lexer": "ipython3",
   "version": "3.10.4"
  },
  "orig_nbformat": 4,
  "vscode": {
   "interpreter": {
    "hash": "767c48a64caae0be89fa7f8f777746ad491056046165076895ba67746a6851de"
   }
  }
 },
 "nbformat": 4,
 "nbformat_minor": 2
}
