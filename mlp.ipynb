{
 "cells": [
  {
   "attachments": {},
   "cell_type": "markdown",
   "metadata": {},
   "source": [
    "# Multilayer Perceptron"
   ]
  },
  {
   "cell_type": "code",
   "execution_count": 18,
   "metadata": {},
   "outputs": [],
   "source": [
    "import pandas as pd\n",
    "import random as rd\n",
    "from sklearn import datasets\n",
    "from sklearn.model_selection import train_test_split, cross_val_score\n",
    "from sklearn.preprocessing import StandardScaler\n",
    "from sklearn.neural_network import MLPClassifier\n",
    "from sklearn import metrics\n",
    "from sklearn.metrics import confusion_matrix, plot_confusion_matrix\n",
    "import matplotlib.pyplot as plt\n",
    "from scipy import stats\n",
    "\n",
    "import utils"
   ]
  },
  {
   "attachments": {},
   "cell_type": "markdown",
   "metadata": {},
   "source": [
    "## Base Line"
   ]
  },
  {
   "cell_type": "code",
   "execution_count": 20,
   "metadata": {},
   "outputs": [
    {
     "data": {
      "text/plain": [
       "0.9911154031868662"
      ]
     },
     "execution_count": 20,
     "metadata": {},
     "output_type": "execute_result"
    }
   ],
   "source": [
    "# Load data\n",
    "train_input, train_output = utils.loadTrainingData(remove_id=True, remove_capuchon_insertion=True)\n",
    "X_train, X_test, y_train, y_test = utils.splitTrain(train_input, train_output)\n",
    "X_train, X_test = utils.scaleInputData(X_train, X_test)\n",
    "\n",
    "# Create model\n",
    "clf = MLPClassifier(solver='lbfgs', alpha=1e-5, hidden_layer_sizes=(5, 2), random_state=1, max_iter=400)\n",
    "clf.fit(X_train, y_train)\n",
    "\n",
    "# Prediction\n",
    "y_pred = clf.predict(X_test)\n",
    "\n",
    "# Evaluation\n",
    "metrics.accuracy_score(y_test, y_pred)"
   ]
  },
  {
   "cell_type": "code",
   "execution_count": 21,
   "metadata": {},
   "outputs": [
    {
     "name": "stderr",
     "output_type": "stream",
     "text": [
      "c:\\Users\\arthu\\AppData\\Local\\Programs\\Python\\Python310\\lib\\site-packages\\sklearn\\utils\\deprecation.py:87: FutureWarning: Function plot_confusion_matrix is deprecated; Function `plot_confusion_matrix` is deprecated in 1.0 and will be removed in 1.2. Use one of the class methods: ConfusionMatrixDisplay.from_predictions or ConfusionMatrixDisplay.from_estimator.\n",
      "  warnings.warn(msg, category=FutureWarning)\n"
     ]
    },
    {
     "data": {
      "image/png": "[encoded data removed]",
      "text/plain": [
       "<Figure size 432x288 with 2 Axes>"
      ]
     },
     "metadata": {
      "needs_background": "light"
     },
     "output_type": "display_data"
    }
   ],
   "source": [
    "plot_confusion_matrix(clf, X_test, y_test)\n",
    "plt.show()"
   ]
  },
  {
   "attachments": {},
   "cell_type": "markdown",
   "metadata": {},
   "source": [
    "Once again: overfitting due to unbalanced classes !"
   ]
  },
  {
   "attachments": {},
   "cell_type": "markdown",
   "metadata": {},
   "source": [
    "## Balanced Classes"
   ]
  },
  {
   "attachments": {},
   "cell_type": "markdown",
   "metadata": {},
   "source": [
    "### Remove Individuals"
   ]
  },
  {
   "cell_type": "code",
   "execution_count": 26,
   "metadata": {},
   "outputs": [
    {
     "data": {
      "text/plain": [
       "0.6666666666666666"
      ]
     },
     "execution_count": 26,
     "metadata": {},
     "output_type": "execute_result"
    }
   ],
   "source": [
    "# Load date and balance classes\n",
    "train_input, train_output = utils.loadTrainingData(remove_id=True, remove_capuchon_insertion=True)\n",
    "train_input, train_output = utils.balanceClassesByRemoving(train_input, train_output)\n",
    "\n",
    "# Create model\n",
    "clf = MLPClassifier(\n",
    "    solver='sgd',\n",
    "    activation='tanh', \n",
    "    alpha=1e-2,\n",
    "    batch_size=32,\n",
    "    learning_rate='adaptive', \n",
    "    hidden_layer_sizes=(200,150,100,50), \n",
    "    random_state=1, \n",
    "    n_iter_no_change =12,\n",
    "    early_stopping=True,\n",
    "    max_iter=2000,\n",
    "    verbose = False)\n",
    "\n",
    "# Evaluation\n",
    "utils.modelEvaluation(clf, train_input, train_output, balance_classes=False, scale_data=True, model_name=\"MLP Classifier\", fig_name=\"mlp_r\")"
   ]
  },
  {
   "attachments": {},
   "cell_type": "markdown",
   "metadata": {},
   "source": [
    "More realistic..."
   ]
  },
  {
   "attachments": {},
   "cell_type": "markdown",
   "metadata": {},
   "source": [
    "### Duplicate Individuals"
   ]
  },
  {
   "cell_type": "code",
   "execution_count": null,
   "metadata": {},
   "outputs": [],
   "source": [
    "# Load date and balance classes\n",
    "train_input, train_output = utils.loadTrainingData(remove_id=True, remove_capuchon_insertion=True)\n",
    "\n",
    "# Create model\n",
    "clf = MLPClassifier(\n",
    "    solver='sgd',\n",
    "    activation='tanh', \n",
    "    alpha=1e-2,\n",
    "    batch_size=32,\n",
    "    learning_rate='adaptive', \n",
    "    hidden_layer_sizes=(200,150,100,50), \n",
    "    random_state=1, \n",
    "    n_iter_no_change =12,\n",
    "    early_stopping=True,\n",
    "    max_iter=2000,\n",
    "    verbose = False)\n",
    "\n",
    "# Evaluation\n",
    "utils.modelEvaluation(clf, train_input, train_output, balance_classes=True, scale_data=True, model_name=\"MLP Classifier\", fig_name=\"mlp_d\")"
   ]
  },
  {
   "attachments": {},
   "cell_type": "markdown",
   "metadata": {},
   "source": [
    "## Remove Outliers"
   ]
  },
  {
   "cell_type": "code",
   "execution_count": 37,
   "metadata": {},
   "outputs": [
    {
     "data": {
      "text/plain": [
       "0.536723163841808"
      ]
     },
     "execution_count": 37,
     "metadata": {},
     "output_type": "execute_result"
    }
   ],
   "source": [
    "# # Copy dataset\n",
    "# train_input_remove = train_input.copy()\n",
    "# train_output_remove = train_output.copy()\n",
    "\n",
    "# # Scale data (MLP is very sensitive to scaling and allow for a unique treshold)\n",
    "# scaler = StandardScaler()\n",
    "# scaler.fit(X_train)\n",
    "# X_train = scaler.transform(X_train)\n",
    "# X_test = scaler.transform(X_test)\n",
    "\n",
    "# # Remove outliers\n",
    "# threshold = 3\n",
    "# outliers = np.array([], dtype = int)\n",
    "# for col_name in list(input_header.values())[1:]:\n",
    "#     z = np.abs(stats.zscore(train_input[col_name]))\n",
    "#     outliers = np.append(outliers, np.where(z > threshold))\n",
    "# outliers_no_duplicate = np.array([], dtype=int)\n",
    "# for i in range(np.size(outliers)):\n",
    "#     if(outliers[i] not in outliers_no_duplicate):\n",
    "#         outliers_no_duplicate = np.append(outliers_no_duplicate, outliers[i])\n",
    "# # np.size(outliers_no_duplicate)\n",
    "\n",
    "# # Select index\n",
    "# defect_index = train_output.index[train_output[\"result\"] == 1].tolist()\n",
    "# for elmt in defect_index:\n",
    "#     if elmt in outliers_no_duplicate:\n",
    "#         defect_index.remove(elmt)\n",
    "# valid_index = train_output.index[train_output[\"result\"] == 0].tolist()\n",
    "# for elmt in valid_index:\n",
    "#     if elmt in outliers_no_duplicate:\n",
    "#         valid_index.remove(elmt)\n",
    "\n",
    "# # Randomly remove some valid individuals\n",
    "# rd.shuffle(valid_index) # Shuffle in order to eliminate \"production correlation\"\n",
    "# train_input_remove = train_input_remove.iloc[valid_index[:len(defect_index)] + defect_index,:]\n",
    "# train_output_remove = train_output_remove.iloc[valid_index[:len(defect_index)] + defect_index,:]\n",
    "\n",
    "# # Create new datasets\n",
    "# train_input_remove = train_input_remove[train_input_remove.columns[~train_input_remove.columns.isin([\"id\", \"capuchon_insertion\"])]]\n",
    "# X_train, X_test, y_train, y_test = train_test_split(train_input_remove, train_output_remove[\"result\"], test_size = 0.3, random_state = 123)\n",
    "\n",
    "\n",
    "# # Create model\n",
    "# mlp_balanced_model = MLPClassifier(\n",
    "#     solver='sgd',\n",
    "#     activation='tanh', \n",
    "#     alpha=1e-2,\n",
    "#     batch_size=32,\n",
    "#     learning_rate='adaptive', \n",
    "#     hidden_layer_sizes=(200,150,100,50), \n",
    "#     random_state=1, \n",
    "#     n_iter_no_change =12,\n",
    "#     early_stopping=True,\n",
    "#     max_iter=2000,\n",
    "#     verbose = False)\n",
    "# mlp_balanced_model.fit(X_train.values, y_train.values)\n",
    "\n",
    "# # Prediction\n",
    "# y_pred = mlp_balanced_model.predict(X_test.values)\n",
    "\n",
    "# # Evaluation\n",
    "# metrics.accuracy_score(y_test, y_pred)"
   ]
  }
 ],
 "metadata": {
  "kernelspec": {
   "display_name": "base",
   "language": "python",
   "name": "python3"
  },
  "language_info": {
   "codemirror_mode": {
    "name": "ipython",
    "version": 3
   },
   "file_extension": ".py",
   "mimetype": "text/x-python",
   "name": "python",
   "nbconvert_exporter": "python",
   "pygments_lexer": "ipython3",
   "version": "3.9.12"
  },
  "orig_nbformat": 4,
  "vscode": {
   "interpreter": {
    "hash": "60e99164659eb01783c8f561e8a597a048720cf8240e4ce5ecfbb52f98d8d756"
   }
  }
 },
 "nbformat": 4,
 "nbformat_minor": 2
}
