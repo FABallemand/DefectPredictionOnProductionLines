{
 "cells": [
  {
   "attachments": {},
   "cell_type": "markdown",
   "metadata": {},
   "source": [
    "# Data Analysis"
   ]
  },
  {
   "cell_type": "code",
   "execution_count": 4,
   "metadata": {},
   "outputs": [],
   "source": [
    "import numpy as np\n",
    "import matplotlib.pyplot as plt\n",
    "import pandas as pd\n",
    "# pd.set_option(\"display.max_columns\", None)\n",
    "# pd.set_option(\"display.max_rows\", None)\n",
    "# pd.options.display.max_rows = 4000\n",
    "# pd.options.display.max_columns = 4000\n",
    "from sklearn.decomposition import PCA"
   ]
  },
  {
   "attachments": {},
   "cell_type": "markdown",
   "metadata": {},
   "source": [
    "## Loading Dataset"
   ]
  },
  {
   "cell_type": "code",
   "execution_count": 5,
   "metadata": {},
   "outputs": [],
   "source": [
    "input_header = {\"PROC_TRACEINFO\" : \"id\",\n",
    "                \"OP070_V_1_angle_value\": \"angle_1\",\n",
    "                \"OP090_SnapRingPeakForce_value\" : \"snap_ring_peak_force\",\n",
    "                \"OP070_V_2_angle_value\" : \"angle_2\",\n",
    "                \"OP120_Rodage_I_mesure_value\" : \"rodage_i\",\n",
    "                \"OP090_SnapRingFinalStroke_value\" : \"snap_ring_final_stroke\",\n",
    "                \"OP110_Vissage_M8_torque_value\" : \"vissage_m8_torque\",\n",
    "                \"OP100_Capuchon_insertion_mesure\" : \"capuchon_insertion\",\n",
    "                \"OP120_Rodage_U_mesure_value\" : \"rodage_u\",\n",
    "                \"OP070_V_1_torque_value\" : \"torque_1\",\n",
    "                \"OP090_StartLinePeakForce_value\" : \"start_line_peak_force\",\n",
    "                \"OP110_Vissage_M8_angle_value\" : \"vissage_m8_angle\",\n",
    "                \"OP090_SnapRingMidPointForce_val\" : \"snap_ring_midpoint_force\",\n",
    "                \"OP070_V_2_torque_value\" : \"torque_2\"}\n",
    "output_header = {\"PROC_TRACEINFO\" : \"id\",\n",
    "                 \"Binar OP130_Resultat_Global_v\" : \"result\"}\n",
    "\n",
    "train_input = pd.read_csv(\"../data/train_inputs.csv\", header=0).rename(columns=input_header)\n",
    "train_output = pd.read_csv(\"../data/train_output.csv\", header=0).rename(columns=output_header)"
   ]
  },
  {
   "attachments": {},
   "cell_type": "markdown",
   "metadata": {},
   "source": [
    "## Dataset Input"
   ]
  },
  {
   "cell_type": "code",
   "execution_count": 6,
   "metadata": {},
   "outputs": [
    {
     "data": {
      "text/html": [
       "<div>\n",
       "<style scoped>\n",
       "    .dataframe tbody tr th:only-of-type {\n",
       "        vertical-align: middle;\n",
       "    }\n",
       "\n",
       "    .dataframe tbody tr th {\n",
       "        vertical-align: top;\n",
       "    }\n",
       "\n",
       "    .dataframe thead th {\n",
       "        text-align: right;\n",
       "    }\n",
       "</style>\n",
       "<table border=\"1\" class=\"dataframe\">\n",
       "  <thead>\n",
       "    <tr style=\"text-align: right;\">\n",
       "      <th></th>\n",
       "      <th>id</th>\n",
       "      <th>angle_1</th>\n",
       "      <th>snap_ring_peak_force</th>\n",
       "      <th>angle_2</th>\n",
       "      <th>rodage_i</th>\n",
       "      <th>snap_ring_final_stroke</th>\n",
       "      <th>vissage_m8_torque</th>\n",
       "      <th>capuchon_insertion</th>\n",
       "      <th>rodage_u</th>\n",
       "      <th>torque_1</th>\n",
       "      <th>start_line_peak_force</th>\n",
       "      <th>vissage_m8_angle</th>\n",
       "      <th>snap_ring_midpoint_force</th>\n",
       "      <th>torque_2</th>\n",
       "    </tr>\n",
       "  </thead>\n",
       "  <tbody>\n",
       "    <tr>\n",
       "      <th>0</th>\n",
       "      <td>I-B-XA1207672-190429-00688</td>\n",
       "      <td>180.4</td>\n",
       "      <td>190.51</td>\n",
       "      <td>173.1</td>\n",
       "      <td>113.64</td>\n",
       "      <td>12.04</td>\n",
       "      <td>12.16</td>\n",
       "      <td>NaN</td>\n",
       "      <td>11.97</td>\n",
       "      <td>6.62</td>\n",
       "      <td>26.37</td>\n",
       "      <td>18.8</td>\n",
       "      <td>109.62</td>\n",
       "      <td>6.60</td>\n",
       "    </tr>\n",
       "    <tr>\n",
       "      <th>1</th>\n",
       "      <td>I-B-XA1207672-190828-00973</td>\n",
       "      <td>138.7</td>\n",
       "      <td>147.70</td>\n",
       "      <td>163.5</td>\n",
       "      <td>109.77</td>\n",
       "      <td>12.12</td>\n",
       "      <td>12.19</td>\n",
       "      <td>0.39</td>\n",
       "      <td>11.97</td>\n",
       "      <td>6.41</td>\n",
       "      <td>21.03</td>\n",
       "      <td>18.5</td>\n",
       "      <td>105.48</td>\n",
       "      <td>6.40</td>\n",
       "    </tr>\n",
       "    <tr>\n",
       "      <th>2</th>\n",
       "      <td>I-B-XA1207672-190712-03462</td>\n",
       "      <td>180.9</td>\n",
       "      <td>150.87</td>\n",
       "      <td>181.2</td>\n",
       "      <td>109.79</td>\n",
       "      <td>11.86</td>\n",
       "      <td>12.24</td>\n",
       "      <td>NaN</td>\n",
       "      <td>11.97</td>\n",
       "      <td>6.62</td>\n",
       "      <td>25.81</td>\n",
       "      <td>17.5</td>\n",
       "      <td>100.03</td>\n",
       "      <td>6.61</td>\n",
       "    </tr>\n",
       "    <tr>\n",
       "      <th>3</th>\n",
       "      <td>I-B-XA1207672-190803-00051</td>\n",
       "      <td>173.5</td>\n",
       "      <td>159.56</td>\n",
       "      <td>151.8</td>\n",
       "      <td>113.25</td>\n",
       "      <td>11.82</td>\n",
       "      <td>12.35</td>\n",
       "      <td>0.39</td>\n",
       "      <td>11.97</td>\n",
       "      <td>6.62</td>\n",
       "      <td>24.62</td>\n",
       "      <td>15.6</td>\n",
       "      <td>104.94</td>\n",
       "      <td>6.61</td>\n",
       "    </tr>\n",
       "    <tr>\n",
       "      <th>4</th>\n",
       "      <td>I-B-XA1207672-190508-03248</td>\n",
       "      <td>174.5</td>\n",
       "      <td>172.29</td>\n",
       "      <td>177.5</td>\n",
       "      <td>112.88</td>\n",
       "      <td>12.07</td>\n",
       "      <td>12.19</td>\n",
       "      <td>NaN</td>\n",
       "      <td>11.97</td>\n",
       "      <td>6.62</td>\n",
       "      <td>29.22</td>\n",
       "      <td>33.6</td>\n",
       "      <td>99.19</td>\n",
       "      <td>6.61</td>\n",
       "    </tr>\n",
       "    <tr>\n",
       "      <th>...</th>\n",
       "      <td>...</td>\n",
       "      <td>...</td>\n",
       "      <td>...</td>\n",
       "      <td>...</td>\n",
       "      <td>...</td>\n",
       "      <td>...</td>\n",
       "      <td>...</td>\n",
       "      <td>...</td>\n",
       "      <td>...</td>\n",
       "      <td>...</td>\n",
       "      <td>...</td>\n",
       "      <td>...</td>\n",
       "      <td>...</td>\n",
       "      <td>...</td>\n",
       "    </tr>\n",
       "    <tr>\n",
       "      <th>34510</th>\n",
       "      <td>I-B-XA1207672-190520-00031</td>\n",
       "      <td>158.2</td>\n",
       "      <td>168.40</td>\n",
       "      <td>180.6</td>\n",
       "      <td>110.65</td>\n",
       "      <td>11.88</td>\n",
       "      <td>12.23</td>\n",
       "      <td>NaN</td>\n",
       "      <td>11.98</td>\n",
       "      <td>6.61</td>\n",
       "      <td>24.03</td>\n",
       "      <td>14.8</td>\n",
       "      <td>98.76</td>\n",
       "      <td>6.61</td>\n",
       "    </tr>\n",
       "    <tr>\n",
       "      <th>34511</th>\n",
       "      <td>I-B-XA1207672-190906-00270</td>\n",
       "      <td>139.4</td>\n",
       "      <td>146.24</td>\n",
       "      <td>154.5</td>\n",
       "      <td>108.14</td>\n",
       "      <td>12.04</td>\n",
       "      <td>12.27</td>\n",
       "      <td>0.41</td>\n",
       "      <td>11.97</td>\n",
       "      <td>6.41</td>\n",
       "      <td>21.52</td>\n",
       "      <td>15.5</td>\n",
       "      <td>98.37</td>\n",
       "      <td>6.40</td>\n",
       "    </tr>\n",
       "    <tr>\n",
       "      <th>34512</th>\n",
       "      <td>I-B-XA1207672-190429-00930</td>\n",
       "      <td>165.5</td>\n",
       "      <td>157.34</td>\n",
       "      <td>149.8</td>\n",
       "      <td>112.77</td>\n",
       "      <td>12.09</td>\n",
       "      <td>12.17</td>\n",
       "      <td>NaN</td>\n",
       "      <td>11.97</td>\n",
       "      <td>6.62</td>\n",
       "      <td>22.65</td>\n",
       "      <td>24.4</td>\n",
       "      <td>92.92</td>\n",
       "      <td>6.62</td>\n",
       "    </tr>\n",
       "    <tr>\n",
       "      <th>34513</th>\n",
       "      <td>I-B-XA1207672-190424-02120</td>\n",
       "      <td>152.4</td>\n",
       "      <td>165.07</td>\n",
       "      <td>140.0</td>\n",
       "      <td>111.19</td>\n",
       "      <td>12.06</td>\n",
       "      <td>12.34</td>\n",
       "      <td>NaN</td>\n",
       "      <td>11.97</td>\n",
       "      <td>6.60</td>\n",
       "      <td>20.77</td>\n",
       "      <td>13.6</td>\n",
       "      <td>101.21</td>\n",
       "      <td>6.60</td>\n",
       "    </tr>\n",
       "    <tr>\n",
       "      <th>34514</th>\n",
       "      <td>I-B-XA1207672-190712-03433</td>\n",
       "      <td>197.8</td>\n",
       "      <td>150.37</td>\n",
       "      <td>190.3</td>\n",
       "      <td>113.81</td>\n",
       "      <td>11.84</td>\n",
       "      <td>12.23</td>\n",
       "      <td>NaN</td>\n",
       "      <td>11.97</td>\n",
       "      <td>6.47</td>\n",
       "      <td>26.43</td>\n",
       "      <td>21.5</td>\n",
       "      <td>102.72</td>\n",
       "      <td>6.62</td>\n",
       "    </tr>\n",
       "  </tbody>\n",
       "</table>\n",
       "<p>34515 rows × 14 columns</p>\n",
       "</div>"
      ],
      "text/plain": [
       "                               id  angle_1  snap_ring_peak_force  angle_2  \\\n",
       "0      I-B-XA1207672-190429-00688    180.4                190.51    173.1   \n",
       "1      I-B-XA1207672-190828-00973    138.7                147.70    163.5   \n",
       "2      I-B-XA1207672-190712-03462    180.9                150.87    181.2   \n",
       "3      I-B-XA1207672-190803-00051    173.5                159.56    151.8   \n",
       "4      I-B-XA1207672-190508-03248    174.5                172.29    177.5   \n",
       "...                           ...      ...                   ...      ...   \n",
       "34510  I-B-XA1207672-190520-00031    158.2                168.40    180.6   \n",
       "34511  I-B-XA1207672-190906-00270    139.4                146.24    154.5   \n",
       "34512  I-B-XA1207672-190429-00930    165.5                157.34    149.8   \n",
       "34513  I-B-XA1207672-190424-02120    152.4                165.07    140.0   \n",
       "34514  I-B-XA1207672-190712-03433    197.8                150.37    190.3   \n",
       "\n",
       "       rodage_i  snap_ring_final_stroke  vissage_m8_torque  \\\n",
       "0        113.64                   12.04              12.16   \n",
       "1        109.77                   12.12              12.19   \n",
       "2        109.79                   11.86              12.24   \n",
       "3        113.25                   11.82              12.35   \n",
       "4        112.88                   12.07              12.19   \n",
       "...         ...                     ...                ...   \n",
       "34510    110.65                   11.88              12.23   \n",
       "34511    108.14                   12.04              12.27   \n",
       "34512    112.77                   12.09              12.17   \n",
       "34513    111.19                   12.06              12.34   \n",
       "34514    113.81                   11.84              12.23   \n",
       "\n",
       "       capuchon_insertion  rodage_u  torque_1  start_line_peak_force  \\\n",
       "0                     NaN     11.97      6.62                  26.37   \n",
       "1                    0.39     11.97      6.41                  21.03   \n",
       "2                     NaN     11.97      6.62                  25.81   \n",
       "3                    0.39     11.97      6.62                  24.62   \n",
       "4                     NaN     11.97      6.62                  29.22   \n",
       "...                   ...       ...       ...                    ...   \n",
       "34510                 NaN     11.98      6.61                  24.03   \n",
       "34511                0.41     11.97      6.41                  21.52   \n",
       "34512                 NaN     11.97      6.62                  22.65   \n",
       "34513                 NaN     11.97      6.60                  20.77   \n",
       "34514                 NaN     11.97      6.47                  26.43   \n",
       "\n",
       "       vissage_m8_angle  snap_ring_midpoint_force  torque_2  \n",
       "0                  18.8                    109.62      6.60  \n",
       "1                  18.5                    105.48      6.40  \n",
       "2                  17.5                    100.03      6.61  \n",
       "3                  15.6                    104.94      6.61  \n",
       "4                  33.6                     99.19      6.61  \n",
       "...                 ...                       ...       ...  \n",
       "34510              14.8                     98.76      6.61  \n",
       "34511              15.5                     98.37      6.40  \n",
       "34512              24.4                     92.92      6.62  \n",
       "34513              13.6                    101.21      6.60  \n",
       "34514              21.5                    102.72      6.62  \n",
       "\n",
       "[34515 rows x 14 columns]"
      ]
     },
     "execution_count": 6,
     "metadata": {},
     "output_type": "execute_result"
    }
   ],
   "source": [
    "train_input"
   ]
  },
  {
   "cell_type": "code",
   "execution_count": 7,
   "metadata": {},
   "outputs": [
    {
     "data": {
      "text/plain": [
       "(34515, 14)"
      ]
     },
     "execution_count": 7,
     "metadata": {},
     "output_type": "execute_result"
    }
   ],
   "source": [
    "train_input.shape"
   ]
  },
  {
   "cell_type": "code",
   "execution_count": 8,
   "metadata": {},
   "outputs": [
    {
     "data": {
      "text/html": [
       "<div>\n",
       "<style scoped>\n",
       "    .dataframe tbody tr th:only-of-type {\n",
       "        vertical-align: middle;\n",
       "    }\n",
       "\n",
       "    .dataframe tbody tr th {\n",
       "        vertical-align: top;\n",
       "    }\n",
       "\n",
       "    .dataframe thead th {\n",
       "        text-align: right;\n",
       "    }\n",
       "</style>\n",
       "<table border=\"1\" class=\"dataframe\">\n",
       "  <thead>\n",
       "    <tr style=\"text-align: right;\">\n",
       "      <th></th>\n",
       "      <th>angle_1</th>\n",
       "      <th>snap_ring_peak_force</th>\n",
       "      <th>angle_2</th>\n",
       "      <th>rodage_i</th>\n",
       "      <th>snap_ring_final_stroke</th>\n",
       "      <th>vissage_m8_torque</th>\n",
       "      <th>capuchon_insertion</th>\n",
       "      <th>rodage_u</th>\n",
       "      <th>torque_1</th>\n",
       "      <th>start_line_peak_force</th>\n",
       "      <th>vissage_m8_angle</th>\n",
       "      <th>snap_ring_midpoint_force</th>\n",
       "      <th>torque_2</th>\n",
       "    </tr>\n",
       "  </thead>\n",
       "  <tbody>\n",
       "    <tr>\n",
       "      <th>count</th>\n",
       "      <td>34515.000000</td>\n",
       "      <td>34515.000000</td>\n",
       "      <td>34515.000000</td>\n",
       "      <td>34515.000000</td>\n",
       "      <td>34515.000000</td>\n",
       "      <td>34515.000000</td>\n",
       "      <td>15888.000000</td>\n",
       "      <td>34515.000000</td>\n",
       "      <td>34515.000000</td>\n",
       "      <td>34515.000000</td>\n",
       "      <td>34515.000000</td>\n",
       "      <td>34515.000000</td>\n",
       "      <td>34515.000000</td>\n",
       "    </tr>\n",
       "    <tr>\n",
       "      <th>mean</th>\n",
       "      <td>159.906922</td>\n",
       "      <td>156.915055</td>\n",
       "      <td>159.618236</td>\n",
       "      <td>113.350222</td>\n",
       "      <td>11.970190</td>\n",
       "      <td>12.256785</td>\n",
       "      <td>0.388173</td>\n",
       "      <td>11.971027</td>\n",
       "      <td>6.548403</td>\n",
       "      <td>23.630152</td>\n",
       "      <td>17.878398</td>\n",
       "      <td>97.700978</td>\n",
       "      <td>6.550867</td>\n",
       "    </tr>\n",
       "    <tr>\n",
       "      <th>std</th>\n",
       "      <td>15.662650</td>\n",
       "      <td>11.271492</td>\n",
       "      <td>15.091490</td>\n",
       "      <td>3.528522</td>\n",
       "      <td>0.169873</td>\n",
       "      <td>0.065319</td>\n",
       "      <td>0.024425</td>\n",
       "      <td>0.003050</td>\n",
       "      <td>0.097602</td>\n",
       "      <td>2.546341</td>\n",
       "      <td>6.785079</td>\n",
       "      <td>6.837714</td>\n",
       "      <td>0.094814</td>\n",
       "    </tr>\n",
       "    <tr>\n",
       "      <th>min</th>\n",
       "      <td>101.800000</td>\n",
       "      <td>0.000000</td>\n",
       "      <td>82.000000</td>\n",
       "      <td>99.990000</td>\n",
       "      <td>0.000000</td>\n",
       "      <td>12.030000</td>\n",
       "      <td>0.240000</td>\n",
       "      <td>11.970000</td>\n",
       "      <td>5.670000</td>\n",
       "      <td>0.000000</td>\n",
       "      <td>6.300000</td>\n",
       "      <td>0.000000</td>\n",
       "      <td>5.740000</td>\n",
       "    </tr>\n",
       "    <tr>\n",
       "      <th>25%</th>\n",
       "      <td>148.700000</td>\n",
       "      <td>149.210000</td>\n",
       "      <td>149.400000</td>\n",
       "      <td>111.040000</td>\n",
       "      <td>11.850000</td>\n",
       "      <td>12.210000</td>\n",
       "      <td>0.380000</td>\n",
       "      <td>11.970000</td>\n",
       "      <td>6.410000</td>\n",
       "      <td>22.280000</td>\n",
       "      <td>13.500000</td>\n",
       "      <td>94.310000</td>\n",
       "      <td>6.420000</td>\n",
       "    </tr>\n",
       "    <tr>\n",
       "      <th>50%</th>\n",
       "      <td>158.000000</td>\n",
       "      <td>156.180000</td>\n",
       "      <td>158.700000</td>\n",
       "      <td>113.160000</td>\n",
       "      <td>12.040000</td>\n",
       "      <td>12.260000</td>\n",
       "      <td>0.390000</td>\n",
       "      <td>11.970000</td>\n",
       "      <td>6.610000</td>\n",
       "      <td>23.880000</td>\n",
       "      <td>16.400000</td>\n",
       "      <td>98.500000</td>\n",
       "      <td>6.610000</td>\n",
       "    </tr>\n",
       "    <tr>\n",
       "      <th>75%</th>\n",
       "      <td>169.300000</td>\n",
       "      <td>164.380000</td>\n",
       "      <td>168.900000</td>\n",
       "      <td>115.380000</td>\n",
       "      <td>12.080000</td>\n",
       "      <td>12.300000</td>\n",
       "      <td>0.410000</td>\n",
       "      <td>11.970000</td>\n",
       "      <td>6.620000</td>\n",
       "      <td>25.290000</td>\n",
       "      <td>20.200000</td>\n",
       "      <td>102.230000</td>\n",
       "      <td>6.610000</td>\n",
       "    </tr>\n",
       "    <tr>\n",
       "      <th>max</th>\n",
       "      <td>198.300000</td>\n",
       "      <td>196.920000</td>\n",
       "      <td>198.100000</td>\n",
       "      <td>177.950000</td>\n",
       "      <td>12.190000</td>\n",
       "      <td>12.500000</td>\n",
       "      <td>0.420000</td>\n",
       "      <td>11.990000</td>\n",
       "      <td>6.670000</td>\n",
       "      <td>43.410000</td>\n",
       "      <td>84.600000</td>\n",
       "      <td>127.300000</td>\n",
       "      <td>6.670000</td>\n",
       "    </tr>\n",
       "  </tbody>\n",
       "</table>\n",
       "</div>"
      ],
      "text/plain": [
       "            angle_1  snap_ring_peak_force       angle_2      rodage_i  \\\n",
       "count  34515.000000          34515.000000  34515.000000  34515.000000   \n",
       "mean     159.906922            156.915055    159.618236    113.350222   \n",
       "std       15.662650             11.271492     15.091490      3.528522   \n",
       "min      101.800000              0.000000     82.000000     99.990000   \n",
       "25%      148.700000            149.210000    149.400000    111.040000   \n",
       "50%      158.000000            156.180000    158.700000    113.160000   \n",
       "75%      169.300000            164.380000    168.900000    115.380000   \n",
       "max      198.300000            196.920000    198.100000    177.950000   \n",
       "\n",
       "       snap_ring_final_stroke  vissage_m8_torque  capuchon_insertion  \\\n",
       "count            34515.000000       34515.000000        15888.000000   \n",
       "mean                11.970190          12.256785            0.388173   \n",
       "std                  0.169873           0.065319            0.024425   \n",
       "min                  0.000000          12.030000            0.240000   \n",
       "25%                 11.850000          12.210000            0.380000   \n",
       "50%                 12.040000          12.260000            0.390000   \n",
       "75%                 12.080000          12.300000            0.410000   \n",
       "max                 12.190000          12.500000            0.420000   \n",
       "\n",
       "           rodage_u      torque_1  start_line_peak_force  vissage_m8_angle  \\\n",
       "count  34515.000000  34515.000000           34515.000000      34515.000000   \n",
       "mean      11.971027      6.548403              23.630152         17.878398   \n",
       "std        0.003050      0.097602               2.546341          6.785079   \n",
       "min       11.970000      5.670000               0.000000          6.300000   \n",
       "25%       11.970000      6.410000              22.280000         13.500000   \n",
       "50%       11.970000      6.610000              23.880000         16.400000   \n",
       "75%       11.970000      6.620000              25.290000         20.200000   \n",
       "max       11.990000      6.670000              43.410000         84.600000   \n",
       "\n",
       "       snap_ring_midpoint_force      torque_2  \n",
       "count              34515.000000  34515.000000  \n",
       "mean                  97.700978      6.550867  \n",
       "std                    6.837714      0.094814  \n",
       "min                    0.000000      5.740000  \n",
       "25%                   94.310000      6.420000  \n",
       "50%                   98.500000      6.610000  \n",
       "75%                  102.230000      6.610000  \n",
       "max                  127.300000      6.670000  "
      ]
     },
     "execution_count": 8,
     "metadata": {},
     "output_type": "execute_result"
    }
   ],
   "source": [
    "train_input.describe()"
   ]
  },
  {
   "cell_type": "code",
   "execution_count": 29,
   "metadata": {
    "tags": []
   },
   "outputs": [
    {
     "data": {
      "text/plain": [
       "array([[<AxesSubplot:title={'center':'angle_1'}>,\n",
       "        <AxesSubplot:title={'center':'snap_ring_peak_force'}>,\n",
       "        <AxesSubplot:title={'center':'angle_2'}>,\n",
       "        <AxesSubplot:title={'center':'rodage_i'}>],\n",
       "       [<AxesSubplot:title={'center':'snap_ring_final_stroke'}>,\n",
       "        <AxesSubplot:title={'center':'vissage_m8_torque'}>,\n",
       "        <AxesSubplot:title={'center':'capuchon_insertion'}>,\n",
       "        <AxesSubplot:title={'center':'rodage_u'}>],\n",
       "       [<AxesSubplot:title={'center':'torque_1'}>,\n",
       "        <AxesSubplot:title={'center':'start_line_peak_force'}>,\n",
       "        <AxesSubplot:title={'center':'vissage_m8_angle'}>,\n",
       "        <AxesSubplot:title={'center':'snap_ring_midpoint_force'}>],\n",
       "       [<AxesSubplot:title={'center':'torque_2'}>, <AxesSubplot:>,\n",
       "        <AxesSubplot:>, <AxesSubplot:>]], dtype=object)"
      ]
     },
     "execution_count": 29,
     "metadata": {},
     "output_type": "execute_result"
    },
    {
     "data": {
      "image/png": "[encoded data removed]",
      "text/plain": [
       "<Figure size 1440x720 with 16 Axes>"
      ]
     },
     "metadata": {
      "needs_background": "light"
     },
     "output_type": "display_data"
    }
   ],
   "source": [
    "train_input.hist(figsize=(20,10))"
   ]
  },
  {
   "cell_type": "code",
   "execution_count": 10,
   "metadata": {},
   "outputs": [
    {
     "data": {
      "text/plain": [
       "id                              0\n",
       "angle_1                         0\n",
       "snap_ring_peak_force            0\n",
       "angle_2                         0\n",
       "rodage_i                        0\n",
       "snap_ring_final_stroke          0\n",
       "vissage_m8_torque               0\n",
       "capuchon_insertion          18627\n",
       "rodage_u                        0\n",
       "torque_1                        0\n",
       "start_line_peak_force           0\n",
       "vissage_m8_angle                0\n",
       "snap_ring_midpoint_force        0\n",
       "torque_2                        0\n",
       "dtype: int64"
      ]
     },
     "execution_count": 10,
     "metadata": {},
     "output_type": "execute_result"
    }
   ],
   "source": [
    "train_input.isna().sum()"
   ]
  },
  {
   "attachments": {},
   "cell_type": "markdown",
   "metadata": {},
   "source": [
    "**capuchon_insertion** might not be a relevent parameter, more than 50% of the population is na ($\\frac{18627}{34515} \\approx 0.53967840069$).  \n",
    "But it nan values could also be filed with the average value as shown below..."
   ]
  },
  {
   "cell_type": "code",
   "execution_count": 11,
   "metadata": {},
   "outputs": [
    {
     "data": {
      "text/plain": [
       "0.3881728348438868"
      ]
     },
     "execution_count": 11,
     "metadata": {},
     "output_type": "execute_result"
    }
   ],
   "source": [
    "mean = train_input[\"capuchon_insertion\"].mean()\n",
    "mean"
   ]
  },
  {
   "cell_type": "code",
   "execution_count": 12,
   "metadata": {},
   "outputs": [
    {
     "data": {
      "text/plain": [
       "0        0.388173\n",
       "1        0.390000\n",
       "2        0.388173\n",
       "3        0.390000\n",
       "4        0.388173\n",
       "           ...   \n",
       "34510    0.388173\n",
       "34511    0.410000\n",
       "34512    0.388173\n",
       "34513    0.388173\n",
       "34514    0.388173\n",
       "Name: capuchon_insertion, Length: 34515, dtype: float64"
      ]
     },
     "execution_count": 12,
     "metadata": {},
     "output_type": "execute_result"
    }
   ],
   "source": [
    "capuchon_insertion_no_nan = train_input[\"capuchon_insertion\"].fillna(mean, inplace=False)\n",
    "capuchon_insertion_no_nan"
   ]
  },
  {
   "cell_type": "code",
   "execution_count": 32,
   "metadata": {},
   "outputs": [
    {
     "data": {
      "text/plain": [
       "[<matplotlib.lines.Line2D at 0x7f5d118f03d0>]"
      ]
     },
     "execution_count": 32,
     "metadata": {},
     "output_type": "execute_result"
    },
    {
     "data": {
      "image/png": "[encoded data removed]",
      "text/plain": [
       "<Figure size 432x288 with 1 Axes>"
      ]
     },
     "metadata": {
      "needs_background": "light"
     },
     "output_type": "display_data"
    }
   ],
   "source": [
    "train_input_pca = train_input.copy() # Deep copy\n",
    "train_input_pca = train_input_pca[train_input_pca.columns[~train_input_pca.columns.isin([\"id\", \"capuchon_insertion\"])]]\n",
    "pca = PCA()\n",
    "pca.fit(train_input_pca)\n",
    "pca.explained_variance_ratio_\n",
    "plt.xticks(range(12))\n",
    "plt.plot(range(12), pca.explained_variance_ratio_)"
   ]
  },
  {
   "cell_type": "code",
   "execution_count": 33,
   "metadata": {},
   "outputs": [
    {
     "data": {
      "text/plain": [
       "[<matplotlib.lines.Line2D at 0x7f5d118987c0>]"
      ]
     },
     "execution_count": 33,
     "metadata": {},
     "output_type": "execute_result"
    },
    {
     "data": {
      "image/png": "[encoded data removed]",
      "text/plain": [
       "<Figure size 432x288 with 1 Axes>"
      ]
     },
     "metadata": {
      "needs_background": "light"
     },
     "output_type": "display_data"
    }
   ],
   "source": [
    "cumsum = np.cumsum(pca.explained_variance_ratio_)\n",
    "plt.xticks(range(12))\n",
    "plt.plot(range(12), cumsum)"
   ]
  },
  {
   "attachments": {},
   "cell_type": "markdown",
   "metadata": {},
   "source": [
    "## Dataset Output"
   ]
  },
  {
   "cell_type": "code",
   "execution_count": 10,
   "metadata": {},
   "outputs": [
    {
     "data": {
      "text/html": [
       "<div>\n",
       "<style scoped>\n",
       "    .dataframe tbody tr th:only-of-type {\n",
       "        vertical-align: middle;\n",
       "    }\n",
       "\n",
       "    .dataframe tbody tr th {\n",
       "        vertical-align: top;\n",
       "    }\n",
       "\n",
       "    .dataframe thead th {\n",
       "        text-align: right;\n",
       "    }\n",
       "</style>\n",
       "<table border=\"1\" class=\"dataframe\">\n",
       "  <thead>\n",
       "    <tr style=\"text-align: right;\">\n",
       "      <th></th>\n",
       "      <th>id</th>\n",
       "      <th>result</th>\n",
       "    </tr>\n",
       "  </thead>\n",
       "  <tbody>\n",
       "    <tr>\n",
       "      <th>0</th>\n",
       "      <td>I-B-XA1207672-190429-00688</td>\n",
       "      <td>0</td>\n",
       "    </tr>\n",
       "    <tr>\n",
       "      <th>1</th>\n",
       "      <td>I-B-XA1207672-190828-00973</td>\n",
       "      <td>0</td>\n",
       "    </tr>\n",
       "    <tr>\n",
       "      <th>2</th>\n",
       "      <td>I-B-XA1207672-190712-03462</td>\n",
       "      <td>0</td>\n",
       "    </tr>\n",
       "    <tr>\n",
       "      <th>3</th>\n",
       "      <td>I-B-XA1207672-190803-00051</td>\n",
       "      <td>0</td>\n",
       "    </tr>\n",
       "    <tr>\n",
       "      <th>4</th>\n",
       "      <td>I-B-XA1207672-190508-03248</td>\n",
       "      <td>0</td>\n",
       "    </tr>\n",
       "    <tr>\n",
       "      <th>...</th>\n",
       "      <td>...</td>\n",
       "      <td>...</td>\n",
       "    </tr>\n",
       "    <tr>\n",
       "      <th>34510</th>\n",
       "      <td>I-B-XA1207672-190520-00031</td>\n",
       "      <td>0</td>\n",
       "    </tr>\n",
       "    <tr>\n",
       "      <th>34511</th>\n",
       "      <td>I-B-XA1207672-190906-00270</td>\n",
       "      <td>0</td>\n",
       "    </tr>\n",
       "    <tr>\n",
       "      <th>34512</th>\n",
       "      <td>I-B-XA1207672-190429-00930</td>\n",
       "      <td>0</td>\n",
       "    </tr>\n",
       "    <tr>\n",
       "      <th>34513</th>\n",
       "      <td>I-B-XA1207672-190424-02120</td>\n",
       "      <td>0</td>\n",
       "    </tr>\n",
       "    <tr>\n",
       "      <th>34514</th>\n",
       "      <td>I-B-XA1207672-190712-03433</td>\n",
       "      <td>0</td>\n",
       "    </tr>\n",
       "  </tbody>\n",
       "</table>\n",
       "<p>34515 rows × 2 columns</p>\n",
       "</div>"
      ],
      "text/plain": [
       "                               id  result\n",
       "0      I-B-XA1207672-190429-00688       0\n",
       "1      I-B-XA1207672-190828-00973       0\n",
       "2      I-B-XA1207672-190712-03462       0\n",
       "3      I-B-XA1207672-190803-00051       0\n",
       "4      I-B-XA1207672-190508-03248       0\n",
       "...                           ...     ...\n",
       "34510  I-B-XA1207672-190520-00031       0\n",
       "34511  I-B-XA1207672-190906-00270       0\n",
       "34512  I-B-XA1207672-190429-00930       0\n",
       "34513  I-B-XA1207672-190424-02120       0\n",
       "34514  I-B-XA1207672-190712-03433       0\n",
       "\n",
       "[34515 rows x 2 columns]"
      ]
     },
     "execution_count": 10,
     "metadata": {},
     "output_type": "execute_result"
    }
   ],
   "source": [
    "train_output"
   ]
  },
  {
   "cell_type": "code",
   "execution_count": 11,
   "metadata": {},
   "outputs": [
    {
     "data": {
      "text/html": [
       "<div>\n",
       "<style scoped>\n",
       "    .dataframe tbody tr th:only-of-type {\n",
       "        vertical-align: middle;\n",
       "    }\n",
       "\n",
       "    .dataframe tbody tr th {\n",
       "        vertical-align: top;\n",
       "    }\n",
       "\n",
       "    .dataframe thead th {\n",
       "        text-align: right;\n",
       "    }\n",
       "</style>\n",
       "<table border=\"1\" class=\"dataframe\">\n",
       "  <thead>\n",
       "    <tr style=\"text-align: right;\">\n",
       "      <th></th>\n",
       "      <th>id</th>\n",
       "      <th>result</th>\n",
       "    </tr>\n",
       "  </thead>\n",
       "  <tbody>\n",
       "    <tr>\n",
       "      <th>0</th>\n",
       "      <td>I-B-XA1207672-190429-00688</td>\n",
       "      <td>False</td>\n",
       "    </tr>\n",
       "    <tr>\n",
       "      <th>1</th>\n",
       "      <td>I-B-XA1207672-190828-00973</td>\n",
       "      <td>False</td>\n",
       "    </tr>\n",
       "    <tr>\n",
       "      <th>2</th>\n",
       "      <td>I-B-XA1207672-190712-03462</td>\n",
       "      <td>False</td>\n",
       "    </tr>\n",
       "    <tr>\n",
       "      <th>3</th>\n",
       "      <td>I-B-XA1207672-190803-00051</td>\n",
       "      <td>False</td>\n",
       "    </tr>\n",
       "    <tr>\n",
       "      <th>4</th>\n",
       "      <td>I-B-XA1207672-190508-03248</td>\n",
       "      <td>False</td>\n",
       "    </tr>\n",
       "    <tr>\n",
       "      <th>...</th>\n",
       "      <td>...</td>\n",
       "      <td>...</td>\n",
       "    </tr>\n",
       "    <tr>\n",
       "      <th>34510</th>\n",
       "      <td>I-B-XA1207672-190520-00031</td>\n",
       "      <td>False</td>\n",
       "    </tr>\n",
       "    <tr>\n",
       "      <th>34511</th>\n",
       "      <td>I-B-XA1207672-190906-00270</td>\n",
       "      <td>False</td>\n",
       "    </tr>\n",
       "    <tr>\n",
       "      <th>34512</th>\n",
       "      <td>I-B-XA1207672-190429-00930</td>\n",
       "      <td>False</td>\n",
       "    </tr>\n",
       "    <tr>\n",
       "      <th>34513</th>\n",
       "      <td>I-B-XA1207672-190424-02120</td>\n",
       "      <td>False</td>\n",
       "    </tr>\n",
       "    <tr>\n",
       "      <th>34514</th>\n",
       "      <td>I-B-XA1207672-190712-03433</td>\n",
       "      <td>False</td>\n",
       "    </tr>\n",
       "  </tbody>\n",
       "</table>\n",
       "<p>34515 rows × 2 columns</p>\n",
       "</div>"
      ],
      "text/plain": [
       "                               id  result\n",
       "0      I-B-XA1207672-190429-00688   False\n",
       "1      I-B-XA1207672-190828-00973   False\n",
       "2      I-B-XA1207672-190712-03462   False\n",
       "3      I-B-XA1207672-190803-00051   False\n",
       "4      I-B-XA1207672-190508-03248   False\n",
       "...                           ...     ...\n",
       "34510  I-B-XA1207672-190520-00031   False\n",
       "34511  I-B-XA1207672-190906-00270   False\n",
       "34512  I-B-XA1207672-190429-00930   False\n",
       "34513  I-B-XA1207672-190424-02120   False\n",
       "34514  I-B-XA1207672-190712-03433   False\n",
       "\n",
       "[34515 rows x 2 columns]"
      ]
     },
     "execution_count": 11,
     "metadata": {},
     "output_type": "execute_result"
    }
   ],
   "source": [
    "train_output_bool = train_output.copy() # Deep copy\n",
    "train_output_bool[\"result\"] = train_output_bool[\"result\"].astype(bool)\n",
    "train_output_bool"
   ]
  },
  {
   "cell_type": "code",
   "execution_count": 12,
   "metadata": {},
   "outputs": [
    {
     "data": {
      "text/plain": [
       "(34515, 2)"
      ]
     },
     "execution_count": 12,
     "metadata": {},
     "output_type": "execute_result"
    }
   ],
   "source": [
    "train_output.shape"
   ]
  },
  {
   "cell_type": "code",
   "execution_count": 13,
   "metadata": {},
   "outputs": [
    {
     "data": {
      "text/plain": [
       "0    34210\n",
       "1      305\n",
       "Name: result, dtype: int64"
      ]
     },
     "execution_count": 13,
     "metadata": {},
     "output_type": "execute_result"
    }
   ],
   "source": [
    "train_output[\"result\"].value_counts()"
   ]
  },
  {
   "attachments": {},
   "cell_type": "markdown",
   "metadata": {},
   "source": [
    "Unbalanced result classes. Defect class is under-represented in the population ($\\frac{305}{34515} \\approx 0.008836737650296972$)."
   ]
  }
 ],
 "metadata": {
  "kernelspec": {
   "display_name": "base",
   "language": "python",
   "name": "python3"
  },
  "language_info": {
   "codemirror_mode": {
    "name": "ipython",
    "version": 3
   },
   "file_extension": ".py",
   "mimetype": "text/x-python",
   "name": "python",
   "nbconvert_exporter": "python",
   "pygments_lexer": "ipython3",
   "version": "3.9.12"
  },
  "orig_nbformat": 4,
  "vscode": {
   "interpreter": {
    "hash": "60e99164659eb01783c8f561e8a597a048720cf8240e4ce5ecfbb52f98d8d756"
   }
  }
 },
 "nbformat": 4,
 "nbformat_minor": 2
}
