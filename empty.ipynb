{
 "cells": [
  {
   "attachments": {},
   "cell_type": "markdown",
   "metadata": {},
   "source": [
    "# Data Analysis"
   ]
  },
  {
   "cell_type": "code",
   "execution_count": 84,
   "metadata": {},
   "outputs": [],
   "source": [
    "import numpy as np\n",
    "import matplotlib.pyplot as plt\n",
    "import pandas as pd\n",
    "from sklearn.decomposition import PCA"
   ]
  },
  {
   "attachments": {},
   "cell_type": "markdown",
   "metadata": {},
   "source": [
    "## Loading Dataset"
   ]
  },
  {
   "cell_type": "code",
   "execution_count": 85,
   "metadata": {},
   "outputs": [],
   "source": [
    "input_header = {\"PROC_TRACEINFO\" : \"id\",\n",
    "                \"OP070_V_1_angle_value\": \"angle_1\",\n",
    "                \"OP090_SnapRingPeakForce_value\" : \"snap_ring_peak_force\",\n",
    "                \"OP070_V_2_angle_value\" : \"angle_2\",\n",
    "                \"OP120_Rodage_I_mesure_value\" : \"rodage_i\",\n",
    "                \"OP090_SnapRingFinalStroke_value\" : \"snap_ring_final_stroke\",\n",
    "                \"OP110_Vissage_M8_torque_value\" : \"vissage_m8_torque\",\n",
    "                \"OP100_Capuchon_insertion_mesure\" : \"capuchon_insertion\",\n",
    "                \"OP120_Rodage_U_mesure_value\" : \"rodage_u\",\n",
    "                \"OP070_V_1_torque_value\" : \"torque_1\",\n",
    "                \"OP090_StartLinePeakForce_value\" : \"start_line_peak_force\",\n",
    "                \"OP110_Vissage_M8_angle_value\" : \"vissage_m8_angle\",\n",
    "                \"OP090_SnapRingMidPointForce_val\" : \"snap_ring_midpoint_force\",\n",
    "                \"OP070_V_2_torque_value\" : \"torque_2\"}\n",
    "output_header = {\"PROC_TRACEINFO\" : \"id\",\n",
    "                 \"Binar OP130_Resultat_Global_v\" : \"result\"}\n",
    "\n",
    "train_input = pd.read_csv(\"../data/train_inputs.csv\", header=0).rename(columns=input_header)\n",
    "train_output = pd.read_csv(\"../data/train_output.csv\", header=0).rename(columns=output_header)"
   ]
  },
  {
   "attachments": {},
   "cell_type": "markdown",
   "metadata": {},
   "source": [
    "## Dataset Input"
   ]
  }
 ],
 "metadata": {
  "kernelspec": {
   "display_name": "base",
   "language": "python",
   "name": "python3"
  },
  "language_info": {
   "codemirror_mode": {
    "name": "ipython",
    "version": 3
   },
   "file_extension": ".py",
   "mimetype": "text/x-python",
   "name": "python",
   "nbconvert_exporter": "python",
   "pygments_lexer": "ipython3",
   "version": "3.9.12 (main, Apr  5 2022, 06:56:58) \n[GCC 7.5.0]"
  },
  "orig_nbformat": 4,
  "vscode": {
   "interpreter": {
    "hash": "60e99164659eb01783c8f561e8a597a048720cf8240e4ce5ecfbb52f98d8d756"
   }
  }
 },
 "nbformat": 4,
 "nbformat_minor": 2
}
